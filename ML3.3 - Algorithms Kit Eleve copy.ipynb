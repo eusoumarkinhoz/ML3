{
 "cells": [
  {
   "attachments": {},
   "cell_type": "markdown",
   "metadata": {},
   "source": [
    "# Dataset "
   ]
  },
  {
   "attachments": {},
   "cell_type": "markdown",
   "metadata": {},
   "source": [
    "https://www.kaggle.com/mariaren/covid19-healthy-diet-dataset"
   ]
  },
  {
   "attachments": {},
   "cell_type": "markdown",
   "metadata": {},
   "source": [
    "# Problem definition "
   ]
  },
  {
   "attachments": {},
   "cell_type": "markdown",
   "metadata": {},
   "source": [
    "We chose a dataset combining different types of food, world population obesity and undernourished rate, and global covid cases count from around the world.\n",
    "\n",
    "The idea is to understand how a healthy eating style could help combat the coronavirus, distinguishing the diet patterns from countries with lower COVID infection rate.\n",
    "\n",
    "Our goal here is to provide diet recommendations based on our findings.\n",
    "\n",
    "Each dataset provides different diet measure different categories of food, depending on what we want to focus on, so we have\n",
    "\n",
    "- fat quantity,\n",
    "- energy intake (kcal),\n",
    "- food supply quantity (kg),\n",
    "- protein for different categories of food\n",
    "\n",
    "To which have been added:\n",
    "\n",
    "- obesity rate\n",
    "- undernourished rate\n",
    "- the most up to date confirmed/deaths/recovered/active cases.\n",
    "\n",
    "We are going to focus on the fat quantity dataset."
   ]
  },
  {
   "cell_type": "code",
   "execution_count": 1,
   "metadata": {},
   "outputs": [],
   "source": [
    "import numpy as np\n",
    "import pandas as pd\n",
    "\n",
    "from sklearn.datasets import load_iris\n",
    "import matplotlib.pyplot as plt\n",
    "\n",
    "from sklearn import tree\n",
    "from sklearn.tree import DecisionTreeClassifier\n",
    "from sklearn.ensemble import RandomForestClassifier\n",
    "from sklearn.linear_model import LinearRegression\n",
    "from sklearn.model_selection import learning_curve\n",
    "from sklearn.tree import export_graphviz, plot_tree\n",
    "from sklearn import metrics\n",
    "from sklearn.preprocessing import StandardScaler\n",
    "from sklearn.model_selection import train_test_split\n",
    "from sklearn.model_selection import KFold\n",
    "from sklearn.metrics import mean_squared_error\n",
    "from sklearn.svm import LinearSVC, SVC, SVR"
   ]
  },
  {
   "attachments": {},
   "cell_type": "markdown",
   "metadata": {},
   "source": [
    "Let's start by loading the data"
   ]
  },
  {
   "cell_type": "code",
   "execution_count": 2,
   "metadata": {},
   "outputs": [],
   "source": [
    "fat_quantity = pd.read_csv(\"./data/Fat_Supply_Quantity_Data.csv\")"
   ]
  },
  {
   "attachments": {},
   "cell_type": "markdown",
   "metadata": {},
   "source": [
    " ## Data Exploration and Processing"
   ]
  },
  {
   "attachments": {},
   "cell_type": "markdown",
   "metadata": {},
   "source": [
    "Now let's explore the dataset:\n",
    "- check the head\n"
   ]
  },
  {
   "cell_type": "code",
   "execution_count": 3,
   "metadata": {},
   "outputs": [
    {
     "data": {
      "text/html": [
       "<div>\n",
       "<style scoped>\n",
       "    .dataframe tbody tr th:only-of-type {\n",
       "        vertical-align: middle;\n",
       "    }\n",
       "\n",
       "    .dataframe tbody tr th {\n",
       "        vertical-align: top;\n",
       "    }\n",
       "\n",
       "    .dataframe thead th {\n",
       "        text-align: right;\n",
       "    }\n",
       "</style>\n",
       "<table border=\"1\" class=\"dataframe\">\n",
       "  <thead>\n",
       "    <tr style=\"text-align: right;\">\n",
       "      <th></th>\n",
       "      <th>Country</th>\n",
       "      <th>Alcoholic Beverages</th>\n",
       "      <th>Animal Products</th>\n",
       "      <th>Animal fats</th>\n",
       "      <th>Aquatic Products, Other</th>\n",
       "      <th>Cereals - Excluding Beer</th>\n",
       "      <th>Eggs</th>\n",
       "      <th>Fish, Seafood</th>\n",
       "      <th>Fruits - Excluding Wine</th>\n",
       "      <th>Meat</th>\n",
       "      <th>...</th>\n",
       "      <th>Vegetable Oils</th>\n",
       "      <th>Vegetables</th>\n",
       "      <th>Obesity</th>\n",
       "      <th>Undernourished</th>\n",
       "      <th>Confirmed</th>\n",
       "      <th>Deaths</th>\n",
       "      <th>Recovered</th>\n",
       "      <th>Active</th>\n",
       "      <th>Population</th>\n",
       "      <th>Unit (all except Population)</th>\n",
       "    </tr>\n",
       "  </thead>\n",
       "  <tbody>\n",
       "    <tr>\n",
       "      <th>0</th>\n",
       "      <td>Afghanistan</td>\n",
       "      <td>0.0</td>\n",
       "      <td>21.6397</td>\n",
       "      <td>6.2224</td>\n",
       "      <td>0.0</td>\n",
       "      <td>8.0353</td>\n",
       "      <td>0.6859</td>\n",
       "      <td>0.0327</td>\n",
       "      <td>0.4246</td>\n",
       "      <td>6.1244</td>\n",
       "      <td>...</td>\n",
       "      <td>17.0831</td>\n",
       "      <td>0.3593</td>\n",
       "      <td>4.5</td>\n",
       "      <td>29.8</td>\n",
       "      <td>0.125149</td>\n",
       "      <td>0.005058</td>\n",
       "      <td>0.098263</td>\n",
       "      <td>0.021827</td>\n",
       "      <td>38928000.0</td>\n",
       "      <td>%</td>\n",
       "    </tr>\n",
       "    <tr>\n",
       "      <th>1</th>\n",
       "      <td>Albania</td>\n",
       "      <td>0.0</td>\n",
       "      <td>32.0002</td>\n",
       "      <td>3.4172</td>\n",
       "      <td>0.0</td>\n",
       "      <td>2.6734</td>\n",
       "      <td>1.6448</td>\n",
       "      <td>0.1445</td>\n",
       "      <td>0.6418</td>\n",
       "      <td>8.7428</td>\n",
       "      <td>...</td>\n",
       "      <td>9.2443</td>\n",
       "      <td>0.6503</td>\n",
       "      <td>22.3</td>\n",
       "      <td>6.2</td>\n",
       "      <td>1.733298</td>\n",
       "      <td>0.035800</td>\n",
       "      <td>0.874560</td>\n",
       "      <td>0.822939</td>\n",
       "      <td>2838000.0</td>\n",
       "      <td>%</td>\n",
       "    </tr>\n",
       "    <tr>\n",
       "      <th>2</th>\n",
       "      <td>Algeria</td>\n",
       "      <td>0.0</td>\n",
       "      <td>14.4175</td>\n",
       "      <td>0.8972</td>\n",
       "      <td>0.0</td>\n",
       "      <td>4.2035</td>\n",
       "      <td>1.2171</td>\n",
       "      <td>0.2008</td>\n",
       "      <td>0.5772</td>\n",
       "      <td>3.8961</td>\n",
       "      <td>...</td>\n",
       "      <td>27.3606</td>\n",
       "      <td>0.5145</td>\n",
       "      <td>26.6</td>\n",
       "      <td>3.9</td>\n",
       "      <td>0.208754</td>\n",
       "      <td>0.005882</td>\n",
       "      <td>0.137268</td>\n",
       "      <td>0.065604</td>\n",
       "      <td>44357000.0</td>\n",
       "      <td>%</td>\n",
       "    </tr>\n",
       "    <tr>\n",
       "      <th>3</th>\n",
       "      <td>Angola</td>\n",
       "      <td>0.0</td>\n",
       "      <td>15.3041</td>\n",
       "      <td>1.3130</td>\n",
       "      <td>0.0</td>\n",
       "      <td>6.5545</td>\n",
       "      <td>0.1539</td>\n",
       "      <td>1.4155</td>\n",
       "      <td>0.3488</td>\n",
       "      <td>11.0268</td>\n",
       "      <td>...</td>\n",
       "      <td>22.4638</td>\n",
       "      <td>0.1231</td>\n",
       "      <td>6.8</td>\n",
       "      <td>25</td>\n",
       "      <td>0.050049</td>\n",
       "      <td>0.001144</td>\n",
       "      <td>0.027440</td>\n",
       "      <td>0.021465</td>\n",
       "      <td>32522000.0</td>\n",
       "      <td>%</td>\n",
       "    </tr>\n",
       "    <tr>\n",
       "      <th>4</th>\n",
       "      <td>Antigua and Barbuda</td>\n",
       "      <td>0.0</td>\n",
       "      <td>27.7033</td>\n",
       "      <td>4.6686</td>\n",
       "      <td>0.0</td>\n",
       "      <td>3.2153</td>\n",
       "      <td>0.3872</td>\n",
       "      <td>1.5263</td>\n",
       "      <td>1.2177</td>\n",
       "      <td>14.3202</td>\n",
       "      <td>...</td>\n",
       "      <td>14.4436</td>\n",
       "      <td>0.2469</td>\n",
       "      <td>19.1</td>\n",
       "      <td>NaN</td>\n",
       "      <td>0.151020</td>\n",
       "      <td>0.005102</td>\n",
       "      <td>0.140816</td>\n",
       "      <td>0.005102</td>\n",
       "      <td>98000.0</td>\n",
       "      <td>%</td>\n",
       "    </tr>\n",
       "  </tbody>\n",
       "</table>\n",
       "<p>5 rows × 32 columns</p>\n",
       "</div>"
      ],
      "text/plain": [
       "               Country  Alcoholic Beverages  Animal Products  Animal fats  \\\n",
       "0          Afghanistan                  0.0          21.6397       6.2224   \n",
       "1              Albania                  0.0          32.0002       3.4172   \n",
       "2              Algeria                  0.0          14.4175       0.8972   \n",
       "3               Angola                  0.0          15.3041       1.3130   \n",
       "4  Antigua and Barbuda                  0.0          27.7033       4.6686   \n",
       "\n",
       "   Aquatic Products, Other  Cereals - Excluding Beer    Eggs  Fish, Seafood  \\\n",
       "0                      0.0                    8.0353  0.6859         0.0327   \n",
       "1                      0.0                    2.6734  1.6448         0.1445   \n",
       "2                      0.0                    4.2035  1.2171         0.2008   \n",
       "3                      0.0                    6.5545  0.1539         1.4155   \n",
       "4                      0.0                    3.2153  0.3872         1.5263   \n",
       "\n",
       "   Fruits - Excluding Wine     Meat  ...  Vegetable Oils  Vegetables  Obesity  \\\n",
       "0                   0.4246   6.1244  ...         17.0831      0.3593      4.5   \n",
       "1                   0.6418   8.7428  ...          9.2443      0.6503     22.3   \n",
       "2                   0.5772   3.8961  ...         27.3606      0.5145     26.6   \n",
       "3                   0.3488  11.0268  ...         22.4638      0.1231      6.8   \n",
       "4                   1.2177  14.3202  ...         14.4436      0.2469     19.1   \n",
       "\n",
       "   Undernourished  Confirmed    Deaths  Recovered    Active  Population  \\\n",
       "0            29.8   0.125149  0.005058   0.098263  0.021827  38928000.0   \n",
       "1             6.2   1.733298  0.035800   0.874560  0.822939   2838000.0   \n",
       "2             3.9   0.208754  0.005882   0.137268  0.065604  44357000.0   \n",
       "3              25   0.050049  0.001144   0.027440  0.021465  32522000.0   \n",
       "4             NaN   0.151020  0.005102   0.140816  0.005102     98000.0   \n",
       "\n",
       "   Unit (all except Population)  \n",
       "0                             %  \n",
       "1                             %  \n",
       "2                             %  \n",
       "3                             %  \n",
       "4                             %  \n",
       "\n",
       "[5 rows x 32 columns]"
      ]
     },
     "execution_count": 3,
     "metadata": {},
     "output_type": "execute_result"
    }
   ],
   "source": [
    "fat_quantity.head()"
   ]
  },
  {
   "cell_type": "markdown",
   "metadata": {},
   "source": [
    "- the columns"
   ]
  },
  {
   "cell_type": "code",
   "execution_count": 4,
   "metadata": {},
   "outputs": [
    {
     "data": {
      "text/plain": [
       "Index(['Country', 'Alcoholic Beverages', 'Animal Products', 'Animal fats',\n",
       "       'Aquatic Products, Other', 'Cereals - Excluding Beer', 'Eggs',\n",
       "       'Fish, Seafood', 'Fruits - Excluding Wine', 'Meat', 'Miscellaneous',\n",
       "       'Milk - Excluding Butter', 'Offals', 'Oilcrops', 'Pulses', 'Spices',\n",
       "       'Starchy Roots', 'Stimulants', 'Sugar Crops', 'Sugar & Sweeteners',\n",
       "       'Treenuts', 'Vegetal Products', 'Vegetable Oils', 'Vegetables',\n",
       "       'Obesity', 'Undernourished', 'Confirmed', 'Deaths', 'Recovered',\n",
       "       'Active', 'Population', 'Unit (all except Population)'],\n",
       "      dtype='object')"
      ]
     },
     "execution_count": 4,
     "metadata": {},
     "output_type": "execute_result"
    }
   ],
   "source": [
    "fat_quantity.columns"
   ]
  },
  {
   "cell_type": "markdown",
   "metadata": {},
   "source": [
    "- the variable types"
   ]
  },
  {
   "cell_type": "code",
   "execution_count": 5,
   "metadata": {},
   "outputs": [
    {
     "name": "stdout",
     "output_type": "stream",
     "text": [
      "<class 'pandas.core.frame.DataFrame'>\n",
      "RangeIndex: 170 entries, 0 to 169\n",
      "Data columns (total 32 columns):\n",
      " #   Column                        Non-Null Count  Dtype  \n",
      "---  ------                        --------------  -----  \n",
      " 0   Country                       170 non-null    object \n",
      " 1   Alcoholic Beverages           170 non-null    float64\n",
      " 2   Animal Products               170 non-null    float64\n",
      " 3   Animal fats                   170 non-null    float64\n",
      " 4   Aquatic Products, Other       170 non-null    float64\n",
      " 5   Cereals - Excluding Beer      170 non-null    float64\n",
      " 6   Eggs                          170 non-null    float64\n",
      " 7   Fish, Seafood                 170 non-null    float64\n",
      " 8   Fruits - Excluding Wine       170 non-null    float64\n",
      " 9   Meat                          170 non-null    float64\n",
      " 10  Miscellaneous                 170 non-null    float64\n",
      " 11  Milk - Excluding Butter       170 non-null    float64\n",
      " 12  Offals                        170 non-null    float64\n",
      " 13  Oilcrops                      170 non-null    float64\n",
      " 14  Pulses                        170 non-null    float64\n",
      " 15  Spices                        170 non-null    float64\n",
      " 16  Starchy Roots                 170 non-null    float64\n",
      " 17  Stimulants                    170 non-null    float64\n",
      " 18  Sugar Crops                   170 non-null    float64\n",
      " 19  Sugar & Sweeteners            170 non-null    float64\n",
      " 20  Treenuts                      170 non-null    float64\n",
      " 21  Vegetal Products              170 non-null    float64\n",
      " 22  Vegetable Oils                170 non-null    float64\n",
      " 23  Vegetables                    170 non-null    float64\n",
      " 24  Obesity                       167 non-null    float64\n",
      " 25  Undernourished                163 non-null    object \n",
      " 26  Confirmed                     164 non-null    float64\n",
      " 27  Deaths                        164 non-null    float64\n",
      " 28  Recovered                     164 non-null    float64\n",
      " 29  Active                        162 non-null    float64\n",
      " 30  Population                    170 non-null    float64\n",
      " 31  Unit (all except Population)  170 non-null    object \n",
      "dtypes: float64(29), object(3)\n",
      "memory usage: 42.6+ KB\n"
     ]
    }
   ],
   "source": [
    "fat_quantity.info()"
   ]
  },
  {
   "attachments": {},
   "cell_type": "markdown",
   "metadata": {},
   "source": [
    "Let's create a function to **check missing data** and unveil **the percentage of data missing** for each dataframe"
   ]
  },
  {
   "cell_type": "code",
   "execution_count": 6,
   "metadata": {},
   "outputs": [],
   "source": [
    "###Datawrangler"
   ]
  },
  {
   "attachments": {},
   "cell_type": "markdown",
   "metadata": {},
   "source": [
    "Delete the countries for which values are missing."
   ]
  },
  {
   "cell_type": "code",
   "execution_count": 7,
   "metadata": {},
   "outputs": [
    {
     "data": {
      "text/plain": [
       "36"
      ]
     },
     "execution_count": 7,
     "metadata": {},
     "output_type": "execute_result"
    }
   ],
   "source": [
    "fat_quantity.isnull().sum().sum()"
   ]
  },
  {
   "cell_type": "code",
   "execution_count": 8,
   "metadata": {},
   "outputs": [],
   "source": [
    "fat_quantity_clean = (fat_quantity.dropna(how='any')\n",
    "                      .drop(['Unit (all except Population)'], axis=1)\n",
    "                      )\n",
    "                      "
   ]
  },
  {
   "cell_type": "code",
   "execution_count": 9,
   "metadata": {},
   "outputs": [
    {
     "data": {
      "text/html": [
       "<div>\n",
       "<style scoped>\n",
       "    .dataframe tbody tr th:only-of-type {\n",
       "        vertical-align: middle;\n",
       "    }\n",
       "\n",
       "    .dataframe tbody tr th {\n",
       "        vertical-align: top;\n",
       "    }\n",
       "\n",
       "    .dataframe thead th {\n",
       "        text-align: right;\n",
       "    }\n",
       "</style>\n",
       "<table border=\"1\" class=\"dataframe\">\n",
       "  <thead>\n",
       "    <tr style=\"text-align: right;\">\n",
       "      <th></th>\n",
       "      <th>Country</th>\n",
       "      <th>Alcoholic Beverages</th>\n",
       "      <th>Animal Products</th>\n",
       "      <th>Animal fats</th>\n",
       "      <th>Aquatic Products, Other</th>\n",
       "      <th>Cereals - Excluding Beer</th>\n",
       "      <th>Eggs</th>\n",
       "      <th>Fish, Seafood</th>\n",
       "      <th>Fruits - Excluding Wine</th>\n",
       "      <th>Meat</th>\n",
       "      <th>...</th>\n",
       "      <th>Vegetal Products</th>\n",
       "      <th>Vegetable Oils</th>\n",
       "      <th>Vegetables</th>\n",
       "      <th>Obesity</th>\n",
       "      <th>Undernourished</th>\n",
       "      <th>Confirmed</th>\n",
       "      <th>Deaths</th>\n",
       "      <th>Recovered</th>\n",
       "      <th>Active</th>\n",
       "      <th>Population</th>\n",
       "    </tr>\n",
       "  </thead>\n",
       "  <tbody>\n",
       "    <tr>\n",
       "      <th>0</th>\n",
       "      <td>Afghanistan</td>\n",
       "      <td>0.0000</td>\n",
       "      <td>21.6397</td>\n",
       "      <td>6.2224</td>\n",
       "      <td>0.0</td>\n",
       "      <td>8.0353</td>\n",
       "      <td>0.6859</td>\n",
       "      <td>0.0327</td>\n",
       "      <td>0.4246</td>\n",
       "      <td>6.1244</td>\n",
       "      <td>...</td>\n",
       "      <td>28.3684</td>\n",
       "      <td>17.0831</td>\n",
       "      <td>0.3593</td>\n",
       "      <td>4.5</td>\n",
       "      <td>29.8</td>\n",
       "      <td>0.125149</td>\n",
       "      <td>0.005058</td>\n",
       "      <td>0.098263</td>\n",
       "      <td>0.021827</td>\n",
       "      <td>38928000.0</td>\n",
       "    </tr>\n",
       "    <tr>\n",
       "      <th>1</th>\n",
       "      <td>Albania</td>\n",
       "      <td>0.0000</td>\n",
       "      <td>32.0002</td>\n",
       "      <td>3.4172</td>\n",
       "      <td>0.0</td>\n",
       "      <td>2.6734</td>\n",
       "      <td>1.6448</td>\n",
       "      <td>0.1445</td>\n",
       "      <td>0.6418</td>\n",
       "      <td>8.7428</td>\n",
       "      <td>...</td>\n",
       "      <td>17.9998</td>\n",
       "      <td>9.2443</td>\n",
       "      <td>0.6503</td>\n",
       "      <td>22.3</td>\n",
       "      <td>6.2</td>\n",
       "      <td>1.733298</td>\n",
       "      <td>0.035800</td>\n",
       "      <td>0.874560</td>\n",
       "      <td>0.822939</td>\n",
       "      <td>2838000.0</td>\n",
       "    </tr>\n",
       "    <tr>\n",
       "      <th>2</th>\n",
       "      <td>Algeria</td>\n",
       "      <td>0.0000</td>\n",
       "      <td>14.4175</td>\n",
       "      <td>0.8972</td>\n",
       "      <td>0.0</td>\n",
       "      <td>4.2035</td>\n",
       "      <td>1.2171</td>\n",
       "      <td>0.2008</td>\n",
       "      <td>0.5772</td>\n",
       "      <td>3.8961</td>\n",
       "      <td>...</td>\n",
       "      <td>35.5857</td>\n",
       "      <td>27.3606</td>\n",
       "      <td>0.5145</td>\n",
       "      <td>26.6</td>\n",
       "      <td>3.9</td>\n",
       "      <td>0.208754</td>\n",
       "      <td>0.005882</td>\n",
       "      <td>0.137268</td>\n",
       "      <td>0.065604</td>\n",
       "      <td>44357000.0</td>\n",
       "    </tr>\n",
       "    <tr>\n",
       "      <th>3</th>\n",
       "      <td>Angola</td>\n",
       "      <td>0.0000</td>\n",
       "      <td>15.3041</td>\n",
       "      <td>1.3130</td>\n",
       "      <td>0.0</td>\n",
       "      <td>6.5545</td>\n",
       "      <td>0.1539</td>\n",
       "      <td>1.4155</td>\n",
       "      <td>0.3488</td>\n",
       "      <td>11.0268</td>\n",
       "      <td>...</td>\n",
       "      <td>34.7010</td>\n",
       "      <td>22.4638</td>\n",
       "      <td>0.1231</td>\n",
       "      <td>6.8</td>\n",
       "      <td>25</td>\n",
       "      <td>0.050049</td>\n",
       "      <td>0.001144</td>\n",
       "      <td>0.027440</td>\n",
       "      <td>0.021465</td>\n",
       "      <td>32522000.0</td>\n",
       "    </tr>\n",
       "    <tr>\n",
       "      <th>5</th>\n",
       "      <td>Argentina</td>\n",
       "      <td>0.0000</td>\n",
       "      <td>30.3572</td>\n",
       "      <td>3.3076</td>\n",
       "      <td>0.0</td>\n",
       "      <td>1.3316</td>\n",
       "      <td>1.5706</td>\n",
       "      <td>0.1664</td>\n",
       "      <td>0.2091</td>\n",
       "      <td>19.2693</td>\n",
       "      <td>...</td>\n",
       "      <td>19.6449</td>\n",
       "      <td>17.3147</td>\n",
       "      <td>0.1878</td>\n",
       "      <td>28.5</td>\n",
       "      <td>4.6</td>\n",
       "      <td>3.312740</td>\n",
       "      <td>0.090444</td>\n",
       "      <td>2.953302</td>\n",
       "      <td>0.268993</td>\n",
       "      <td>45377000.0</td>\n",
       "    </tr>\n",
       "    <tr>\n",
       "      <th>...</th>\n",
       "      <td>...</td>\n",
       "      <td>...</td>\n",
       "      <td>...</td>\n",
       "      <td>...</td>\n",
       "      <td>...</td>\n",
       "      <td>...</td>\n",
       "      <td>...</td>\n",
       "      <td>...</td>\n",
       "      <td>...</td>\n",
       "      <td>...</td>\n",
       "      <td>...</td>\n",
       "      <td>...</td>\n",
       "      <td>...</td>\n",
       "      <td>...</td>\n",
       "      <td>...</td>\n",
       "      <td>...</td>\n",
       "      <td>...</td>\n",
       "      <td>...</td>\n",
       "      <td>...</td>\n",
       "      <td>...</td>\n",
       "      <td>...</td>\n",
       "    </tr>\n",
       "    <tr>\n",
       "      <th>165</th>\n",
       "      <td>Venezuela (Bolivarian Republic of)</td>\n",
       "      <td>0.0000</td>\n",
       "      <td>16.3261</td>\n",
       "      <td>2.2673</td>\n",
       "      <td>0.0</td>\n",
       "      <td>2.5449</td>\n",
       "      <td>0.6555</td>\n",
       "      <td>0.5707</td>\n",
       "      <td>0.9640</td>\n",
       "      <td>7.0949</td>\n",
       "      <td>...</td>\n",
       "      <td>33.6855</td>\n",
       "      <td>29.5211</td>\n",
       "      <td>0.1851</td>\n",
       "      <td>25.2</td>\n",
       "      <td>21.2</td>\n",
       "      <td>0.377466</td>\n",
       "      <td>0.003351</td>\n",
       "      <td>0.359703</td>\n",
       "      <td>0.014411</td>\n",
       "      <td>28645000.0</td>\n",
       "    </tr>\n",
       "    <tr>\n",
       "      <th>166</th>\n",
       "      <td>Vietnam</td>\n",
       "      <td>0.0000</td>\n",
       "      <td>33.2484</td>\n",
       "      <td>3.8238</td>\n",
       "      <td>0.0</td>\n",
       "      <td>3.7155</td>\n",
       "      <td>0.7839</td>\n",
       "      <td>1.1217</td>\n",
       "      <td>0.4079</td>\n",
       "      <td>26.4292</td>\n",
       "      <td>...</td>\n",
       "      <td>16.7548</td>\n",
       "      <td>5.6211</td>\n",
       "      <td>0.6373</td>\n",
       "      <td>2.1</td>\n",
       "      <td>9.3</td>\n",
       "      <td>0.001457</td>\n",
       "      <td>0.000036</td>\n",
       "      <td>0.001295</td>\n",
       "      <td>0.000126</td>\n",
       "      <td>96209000.0</td>\n",
       "    </tr>\n",
       "    <tr>\n",
       "      <th>167</th>\n",
       "      <td>Yemen</td>\n",
       "      <td>0.0000</td>\n",
       "      <td>12.5401</td>\n",
       "      <td>2.0131</td>\n",
       "      <td>0.0</td>\n",
       "      <td>11.5271</td>\n",
       "      <td>0.5514</td>\n",
       "      <td>0.3847</td>\n",
       "      <td>0.2564</td>\n",
       "      <td>8.0010</td>\n",
       "      <td>...</td>\n",
       "      <td>37.4535</td>\n",
       "      <td>23.6312</td>\n",
       "      <td>0.1667</td>\n",
       "      <td>14.1</td>\n",
       "      <td>38.9</td>\n",
       "      <td>0.006987</td>\n",
       "      <td>0.002032</td>\n",
       "      <td>0.004640</td>\n",
       "      <td>0.000315</td>\n",
       "      <td>29826000.0</td>\n",
       "    </tr>\n",
       "    <tr>\n",
       "      <th>168</th>\n",
       "      <td>Zambia</td>\n",
       "      <td>0.0783</td>\n",
       "      <td>9.6005</td>\n",
       "      <td>1.6113</td>\n",
       "      <td>0.0</td>\n",
       "      <td>14.3225</td>\n",
       "      <td>0.6266</td>\n",
       "      <td>1.0070</td>\n",
       "      <td>0.1343</td>\n",
       "      <td>4.9010</td>\n",
       "      <td>...</td>\n",
       "      <td>40.3939</td>\n",
       "      <td>15.2848</td>\n",
       "      <td>0.1567</td>\n",
       "      <td>6.5</td>\n",
       "      <td>46.7</td>\n",
       "      <td>0.099663</td>\n",
       "      <td>0.001996</td>\n",
       "      <td>0.094696</td>\n",
       "      <td>0.002970</td>\n",
       "      <td>18384000.0</td>\n",
       "    </tr>\n",
       "    <tr>\n",
       "      <th>169</th>\n",
       "      <td>Zimbabwe</td>\n",
       "      <td>0.0000</td>\n",
       "      <td>10.3796</td>\n",
       "      <td>2.9543</td>\n",
       "      <td>0.0</td>\n",
       "      <td>9.7922</td>\n",
       "      <td>0.3682</td>\n",
       "      <td>0.2455</td>\n",
       "      <td>0.0614</td>\n",
       "      <td>4.5674</td>\n",
       "      <td>...</td>\n",
       "      <td>39.6248</td>\n",
       "      <td>26.9396</td>\n",
       "      <td>0.0789</td>\n",
       "      <td>12.3</td>\n",
       "      <td>51.3</td>\n",
       "      <td>0.076418</td>\n",
       "      <td>0.002079</td>\n",
       "      <td>0.064280</td>\n",
       "      <td>0.010059</td>\n",
       "      <td>14863000.0</td>\n",
       "    </tr>\n",
       "  </tbody>\n",
       "</table>\n",
       "<p>154 rows × 31 columns</p>\n",
       "</div>"
      ],
      "text/plain": [
       "                                Country  Alcoholic Beverages  Animal Products  \\\n",
       "0                           Afghanistan               0.0000          21.6397   \n",
       "1                               Albania               0.0000          32.0002   \n",
       "2                               Algeria               0.0000          14.4175   \n",
       "3                                Angola               0.0000          15.3041   \n",
       "5                             Argentina               0.0000          30.3572   \n",
       "..                                  ...                  ...              ...   \n",
       "165  Venezuela (Bolivarian Republic of)               0.0000          16.3261   \n",
       "166                             Vietnam               0.0000          33.2484   \n",
       "167                               Yemen               0.0000          12.5401   \n",
       "168                              Zambia               0.0783           9.6005   \n",
       "169                            Zimbabwe               0.0000          10.3796   \n",
       "\n",
       "     Animal fats  Aquatic Products, Other  Cereals - Excluding Beer    Eggs  \\\n",
       "0         6.2224                      0.0                    8.0353  0.6859   \n",
       "1         3.4172                      0.0                    2.6734  1.6448   \n",
       "2         0.8972                      0.0                    4.2035  1.2171   \n",
       "3         1.3130                      0.0                    6.5545  0.1539   \n",
       "5         3.3076                      0.0                    1.3316  1.5706   \n",
       "..           ...                      ...                       ...     ...   \n",
       "165       2.2673                      0.0                    2.5449  0.6555   \n",
       "166       3.8238                      0.0                    3.7155  0.7839   \n",
       "167       2.0131                      0.0                   11.5271  0.5514   \n",
       "168       1.6113                      0.0                   14.3225  0.6266   \n",
       "169       2.9543                      0.0                    9.7922  0.3682   \n",
       "\n",
       "     Fish, Seafood  Fruits - Excluding Wine     Meat  ...  Vegetal Products  \\\n",
       "0           0.0327                   0.4246   6.1244  ...           28.3684   \n",
       "1           0.1445                   0.6418   8.7428  ...           17.9998   \n",
       "2           0.2008                   0.5772   3.8961  ...           35.5857   \n",
       "3           1.4155                   0.3488  11.0268  ...           34.7010   \n",
       "5           0.1664                   0.2091  19.2693  ...           19.6449   \n",
       "..             ...                      ...      ...  ...               ...   \n",
       "165         0.5707                   0.9640   7.0949  ...           33.6855   \n",
       "166         1.1217                   0.4079  26.4292  ...           16.7548   \n",
       "167         0.3847                   0.2564   8.0010  ...           37.4535   \n",
       "168         1.0070                   0.1343   4.9010  ...           40.3939   \n",
       "169         0.2455                   0.0614   4.5674  ...           39.6248   \n",
       "\n",
       "     Vegetable Oils  Vegetables  Obesity  Undernourished  Confirmed    Deaths  \\\n",
       "0           17.0831      0.3593      4.5            29.8   0.125149  0.005058   \n",
       "1            9.2443      0.6503     22.3             6.2   1.733298  0.035800   \n",
       "2           27.3606      0.5145     26.6             3.9   0.208754  0.005882   \n",
       "3           22.4638      0.1231      6.8              25   0.050049  0.001144   \n",
       "5           17.3147      0.1878     28.5             4.6   3.312740  0.090444   \n",
       "..              ...         ...      ...             ...        ...       ...   \n",
       "165         29.5211      0.1851     25.2            21.2   0.377466  0.003351   \n",
       "166          5.6211      0.6373      2.1             9.3   0.001457  0.000036   \n",
       "167         23.6312      0.1667     14.1            38.9   0.006987  0.002032   \n",
       "168         15.2848      0.1567      6.5            46.7   0.099663  0.001996   \n",
       "169         26.9396      0.0789     12.3            51.3   0.076418  0.002079   \n",
       "\n",
       "     Recovered    Active  Population  \n",
       "0     0.098263  0.021827  38928000.0  \n",
       "1     0.874560  0.822939   2838000.0  \n",
       "2     0.137268  0.065604  44357000.0  \n",
       "3     0.027440  0.021465  32522000.0  \n",
       "5     2.953302  0.268993  45377000.0  \n",
       "..         ...       ...         ...  \n",
       "165   0.359703  0.014411  28645000.0  \n",
       "166   0.001295  0.000126  96209000.0  \n",
       "167   0.004640  0.000315  29826000.0  \n",
       "168   0.094696  0.002970  18384000.0  \n",
       "169   0.064280  0.010059  14863000.0  \n",
       "\n",
       "[154 rows x 31 columns]"
      ]
     },
     "execution_count": 9,
     "metadata": {},
     "output_type": "execute_result"
    }
   ],
   "source": [
    "fat_quantity_clean"
   ]
  },
  {
   "cell_type": "code",
   "execution_count": 10,
   "metadata": {},
   "outputs": [],
   "source": [
    "##Check Missing data\n",
    "\n",
    "# countries_missing_data = fat_quantity_clean[fat_quantity_clean.isnull().any(axis=1)]\n",
    "# countries_missing_data"
   ]
  },
  {
   "attachments": {},
   "cell_type": "markdown",
   "metadata": {},
   "source": [
    "Look at the different data types for each variable."
   ]
  },
  {
   "cell_type": "code",
   "execution_count": 11,
   "metadata": {},
   "outputs": [
    {
     "name": "stdout",
     "output_type": "stream",
     "text": [
      "<class 'pandas.core.frame.DataFrame'>\n",
      "Index: 154 entries, 0 to 169\n",
      "Data columns (total 31 columns):\n",
      " #   Column                    Non-Null Count  Dtype  \n",
      "---  ------                    --------------  -----  \n",
      " 0   Country                   154 non-null    object \n",
      " 1   Alcoholic Beverages       154 non-null    float64\n",
      " 2   Animal Products           154 non-null    float64\n",
      " 3   Animal fats               154 non-null    float64\n",
      " 4   Aquatic Products, Other   154 non-null    float64\n",
      " 5   Cereals - Excluding Beer  154 non-null    float64\n",
      " 6   Eggs                      154 non-null    float64\n",
      " 7   Fish, Seafood             154 non-null    float64\n",
      " 8   Fruits - Excluding Wine   154 non-null    float64\n",
      " 9   Meat                      154 non-null    float64\n",
      " 10  Miscellaneous             154 non-null    float64\n",
      " 11  Milk - Excluding Butter   154 non-null    float64\n",
      " 12  Offals                    154 non-null    float64\n",
      " 13  Oilcrops                  154 non-null    float64\n",
      " 14  Pulses                    154 non-null    float64\n",
      " 15  Spices                    154 non-null    float64\n",
      " 16  Starchy Roots             154 non-null    float64\n",
      " 17  Stimulants                154 non-null    float64\n",
      " 18  Sugar Crops               154 non-null    float64\n",
      " 19  Sugar & Sweeteners        154 non-null    float64\n",
      " 20  Treenuts                  154 non-null    float64\n",
      " 21  Vegetal Products          154 non-null    float64\n",
      " 22  Vegetable Oils            154 non-null    float64\n",
      " 23  Vegetables                154 non-null    float64\n",
      " 24  Obesity                   154 non-null    float64\n",
      " 25  Undernourished            154 non-null    object \n",
      " 26  Confirmed                 154 non-null    float64\n",
      " 27  Deaths                    154 non-null    float64\n",
      " 28  Recovered                 154 non-null    float64\n",
      " 29  Active                    154 non-null    float64\n",
      " 30  Population                154 non-null    float64\n",
      "dtypes: float64(29), object(2)\n",
      "memory usage: 38.5+ KB\n"
     ]
    }
   ],
   "source": [
    "fat_quantity_clean.info()"
   ]
  },
  {
   "attachments": {},
   "cell_type": "markdown",
   "metadata": {},
   "source": [
    "Explore the variables that are not of float type and see of you can convert them in to float type."
   ]
  },
  {
   "cell_type": "code",
   "execution_count": 12,
   "metadata": {},
   "outputs": [],
   "source": [
    "fat_quantity_clean = fat_quantity_clean.replace(\"<2.5\", 2.5)"
   ]
  },
  {
   "cell_type": "code",
   "execution_count": 13,
   "metadata": {},
   "outputs": [
    {
     "data": {
      "text/html": [
       "<div>\n",
       "<style scoped>\n",
       "    .dataframe tbody tr th:only-of-type {\n",
       "        vertical-align: middle;\n",
       "    }\n",
       "\n",
       "    .dataframe tbody tr th {\n",
       "        vertical-align: top;\n",
       "    }\n",
       "\n",
       "    .dataframe thead th {\n",
       "        text-align: right;\n",
       "    }\n",
       "</style>\n",
       "<table border=\"1\" class=\"dataframe\">\n",
       "  <thead>\n",
       "    <tr style=\"text-align: right;\">\n",
       "      <th></th>\n",
       "      <th>Country</th>\n",
       "      <th>Alcoholic Beverages</th>\n",
       "      <th>Animal Products</th>\n",
       "      <th>Animal fats</th>\n",
       "      <th>Aquatic Products, Other</th>\n",
       "      <th>Cereals - Excluding Beer</th>\n",
       "      <th>Eggs</th>\n",
       "      <th>Fish, Seafood</th>\n",
       "      <th>Fruits - Excluding Wine</th>\n",
       "      <th>Meat</th>\n",
       "      <th>...</th>\n",
       "      <th>Vegetal Products</th>\n",
       "      <th>Vegetable Oils</th>\n",
       "      <th>Vegetables</th>\n",
       "      <th>Obesity</th>\n",
       "      <th>Undernourished</th>\n",
       "      <th>Confirmed</th>\n",
       "      <th>Deaths</th>\n",
       "      <th>Recovered</th>\n",
       "      <th>Active</th>\n",
       "      <th>Population</th>\n",
       "    </tr>\n",
       "  </thead>\n",
       "  <tbody>\n",
       "    <tr>\n",
       "      <th>0</th>\n",
       "      <td>Afghanistan</td>\n",
       "      <td>0.0000</td>\n",
       "      <td>21.6397</td>\n",
       "      <td>6.2224</td>\n",
       "      <td>0.0</td>\n",
       "      <td>8.0353</td>\n",
       "      <td>0.6859</td>\n",
       "      <td>0.0327</td>\n",
       "      <td>0.4246</td>\n",
       "      <td>6.1244</td>\n",
       "      <td>...</td>\n",
       "      <td>28.3684</td>\n",
       "      <td>17.0831</td>\n",
       "      <td>0.3593</td>\n",
       "      <td>4.5</td>\n",
       "      <td>29.8</td>\n",
       "      <td>0.125149</td>\n",
       "      <td>0.005058</td>\n",
       "      <td>0.098263</td>\n",
       "      <td>0.021827</td>\n",
       "      <td>38928000.0</td>\n",
       "    </tr>\n",
       "    <tr>\n",
       "      <th>1</th>\n",
       "      <td>Albania</td>\n",
       "      <td>0.0000</td>\n",
       "      <td>32.0002</td>\n",
       "      <td>3.4172</td>\n",
       "      <td>0.0</td>\n",
       "      <td>2.6734</td>\n",
       "      <td>1.6448</td>\n",
       "      <td>0.1445</td>\n",
       "      <td>0.6418</td>\n",
       "      <td>8.7428</td>\n",
       "      <td>...</td>\n",
       "      <td>17.9998</td>\n",
       "      <td>9.2443</td>\n",
       "      <td>0.6503</td>\n",
       "      <td>22.3</td>\n",
       "      <td>6.2</td>\n",
       "      <td>1.733298</td>\n",
       "      <td>0.035800</td>\n",
       "      <td>0.874560</td>\n",
       "      <td>0.822939</td>\n",
       "      <td>2838000.0</td>\n",
       "    </tr>\n",
       "    <tr>\n",
       "      <th>2</th>\n",
       "      <td>Algeria</td>\n",
       "      <td>0.0000</td>\n",
       "      <td>14.4175</td>\n",
       "      <td>0.8972</td>\n",
       "      <td>0.0</td>\n",
       "      <td>4.2035</td>\n",
       "      <td>1.2171</td>\n",
       "      <td>0.2008</td>\n",
       "      <td>0.5772</td>\n",
       "      <td>3.8961</td>\n",
       "      <td>...</td>\n",
       "      <td>35.5857</td>\n",
       "      <td>27.3606</td>\n",
       "      <td>0.5145</td>\n",
       "      <td>26.6</td>\n",
       "      <td>3.9</td>\n",
       "      <td>0.208754</td>\n",
       "      <td>0.005882</td>\n",
       "      <td>0.137268</td>\n",
       "      <td>0.065604</td>\n",
       "      <td>44357000.0</td>\n",
       "    </tr>\n",
       "    <tr>\n",
       "      <th>3</th>\n",
       "      <td>Angola</td>\n",
       "      <td>0.0000</td>\n",
       "      <td>15.3041</td>\n",
       "      <td>1.3130</td>\n",
       "      <td>0.0</td>\n",
       "      <td>6.5545</td>\n",
       "      <td>0.1539</td>\n",
       "      <td>1.4155</td>\n",
       "      <td>0.3488</td>\n",
       "      <td>11.0268</td>\n",
       "      <td>...</td>\n",
       "      <td>34.7010</td>\n",
       "      <td>22.4638</td>\n",
       "      <td>0.1231</td>\n",
       "      <td>6.8</td>\n",
       "      <td>25</td>\n",
       "      <td>0.050049</td>\n",
       "      <td>0.001144</td>\n",
       "      <td>0.027440</td>\n",
       "      <td>0.021465</td>\n",
       "      <td>32522000.0</td>\n",
       "    </tr>\n",
       "    <tr>\n",
       "      <th>5</th>\n",
       "      <td>Argentina</td>\n",
       "      <td>0.0000</td>\n",
       "      <td>30.3572</td>\n",
       "      <td>3.3076</td>\n",
       "      <td>0.0</td>\n",
       "      <td>1.3316</td>\n",
       "      <td>1.5706</td>\n",
       "      <td>0.1664</td>\n",
       "      <td>0.2091</td>\n",
       "      <td>19.2693</td>\n",
       "      <td>...</td>\n",
       "      <td>19.6449</td>\n",
       "      <td>17.3147</td>\n",
       "      <td>0.1878</td>\n",
       "      <td>28.5</td>\n",
       "      <td>4.6</td>\n",
       "      <td>3.312740</td>\n",
       "      <td>0.090444</td>\n",
       "      <td>2.953302</td>\n",
       "      <td>0.268993</td>\n",
       "      <td>45377000.0</td>\n",
       "    </tr>\n",
       "    <tr>\n",
       "      <th>...</th>\n",
       "      <td>...</td>\n",
       "      <td>...</td>\n",
       "      <td>...</td>\n",
       "      <td>...</td>\n",
       "      <td>...</td>\n",
       "      <td>...</td>\n",
       "      <td>...</td>\n",
       "      <td>...</td>\n",
       "      <td>...</td>\n",
       "      <td>...</td>\n",
       "      <td>...</td>\n",
       "      <td>...</td>\n",
       "      <td>...</td>\n",
       "      <td>...</td>\n",
       "      <td>...</td>\n",
       "      <td>...</td>\n",
       "      <td>...</td>\n",
       "      <td>...</td>\n",
       "      <td>...</td>\n",
       "      <td>...</td>\n",
       "      <td>...</td>\n",
       "    </tr>\n",
       "    <tr>\n",
       "      <th>165</th>\n",
       "      <td>Venezuela (Bolivarian Republic of)</td>\n",
       "      <td>0.0000</td>\n",
       "      <td>16.3261</td>\n",
       "      <td>2.2673</td>\n",
       "      <td>0.0</td>\n",
       "      <td>2.5449</td>\n",
       "      <td>0.6555</td>\n",
       "      <td>0.5707</td>\n",
       "      <td>0.9640</td>\n",
       "      <td>7.0949</td>\n",
       "      <td>...</td>\n",
       "      <td>33.6855</td>\n",
       "      <td>29.5211</td>\n",
       "      <td>0.1851</td>\n",
       "      <td>25.2</td>\n",
       "      <td>21.2</td>\n",
       "      <td>0.377466</td>\n",
       "      <td>0.003351</td>\n",
       "      <td>0.359703</td>\n",
       "      <td>0.014411</td>\n",
       "      <td>28645000.0</td>\n",
       "    </tr>\n",
       "    <tr>\n",
       "      <th>166</th>\n",
       "      <td>Vietnam</td>\n",
       "      <td>0.0000</td>\n",
       "      <td>33.2484</td>\n",
       "      <td>3.8238</td>\n",
       "      <td>0.0</td>\n",
       "      <td>3.7155</td>\n",
       "      <td>0.7839</td>\n",
       "      <td>1.1217</td>\n",
       "      <td>0.4079</td>\n",
       "      <td>26.4292</td>\n",
       "      <td>...</td>\n",
       "      <td>16.7548</td>\n",
       "      <td>5.6211</td>\n",
       "      <td>0.6373</td>\n",
       "      <td>2.1</td>\n",
       "      <td>9.3</td>\n",
       "      <td>0.001457</td>\n",
       "      <td>0.000036</td>\n",
       "      <td>0.001295</td>\n",
       "      <td>0.000126</td>\n",
       "      <td>96209000.0</td>\n",
       "    </tr>\n",
       "    <tr>\n",
       "      <th>167</th>\n",
       "      <td>Yemen</td>\n",
       "      <td>0.0000</td>\n",
       "      <td>12.5401</td>\n",
       "      <td>2.0131</td>\n",
       "      <td>0.0</td>\n",
       "      <td>11.5271</td>\n",
       "      <td>0.5514</td>\n",
       "      <td>0.3847</td>\n",
       "      <td>0.2564</td>\n",
       "      <td>8.0010</td>\n",
       "      <td>...</td>\n",
       "      <td>37.4535</td>\n",
       "      <td>23.6312</td>\n",
       "      <td>0.1667</td>\n",
       "      <td>14.1</td>\n",
       "      <td>38.9</td>\n",
       "      <td>0.006987</td>\n",
       "      <td>0.002032</td>\n",
       "      <td>0.004640</td>\n",
       "      <td>0.000315</td>\n",
       "      <td>29826000.0</td>\n",
       "    </tr>\n",
       "    <tr>\n",
       "      <th>168</th>\n",
       "      <td>Zambia</td>\n",
       "      <td>0.0783</td>\n",
       "      <td>9.6005</td>\n",
       "      <td>1.6113</td>\n",
       "      <td>0.0</td>\n",
       "      <td>14.3225</td>\n",
       "      <td>0.6266</td>\n",
       "      <td>1.0070</td>\n",
       "      <td>0.1343</td>\n",
       "      <td>4.9010</td>\n",
       "      <td>...</td>\n",
       "      <td>40.3939</td>\n",
       "      <td>15.2848</td>\n",
       "      <td>0.1567</td>\n",
       "      <td>6.5</td>\n",
       "      <td>46.7</td>\n",
       "      <td>0.099663</td>\n",
       "      <td>0.001996</td>\n",
       "      <td>0.094696</td>\n",
       "      <td>0.002970</td>\n",
       "      <td>18384000.0</td>\n",
       "    </tr>\n",
       "    <tr>\n",
       "      <th>169</th>\n",
       "      <td>Zimbabwe</td>\n",
       "      <td>0.0000</td>\n",
       "      <td>10.3796</td>\n",
       "      <td>2.9543</td>\n",
       "      <td>0.0</td>\n",
       "      <td>9.7922</td>\n",
       "      <td>0.3682</td>\n",
       "      <td>0.2455</td>\n",
       "      <td>0.0614</td>\n",
       "      <td>4.5674</td>\n",
       "      <td>...</td>\n",
       "      <td>39.6248</td>\n",
       "      <td>26.9396</td>\n",
       "      <td>0.0789</td>\n",
       "      <td>12.3</td>\n",
       "      <td>51.3</td>\n",
       "      <td>0.076418</td>\n",
       "      <td>0.002079</td>\n",
       "      <td>0.064280</td>\n",
       "      <td>0.010059</td>\n",
       "      <td>14863000.0</td>\n",
       "    </tr>\n",
       "  </tbody>\n",
       "</table>\n",
       "<p>154 rows × 31 columns</p>\n",
       "</div>"
      ],
      "text/plain": [
       "                                Country  Alcoholic Beverages  Animal Products  \\\n",
       "0                           Afghanistan               0.0000          21.6397   \n",
       "1                               Albania               0.0000          32.0002   \n",
       "2                               Algeria               0.0000          14.4175   \n",
       "3                                Angola               0.0000          15.3041   \n",
       "5                             Argentina               0.0000          30.3572   \n",
       "..                                  ...                  ...              ...   \n",
       "165  Venezuela (Bolivarian Republic of)               0.0000          16.3261   \n",
       "166                             Vietnam               0.0000          33.2484   \n",
       "167                               Yemen               0.0000          12.5401   \n",
       "168                              Zambia               0.0783           9.6005   \n",
       "169                            Zimbabwe               0.0000          10.3796   \n",
       "\n",
       "     Animal fats  Aquatic Products, Other  Cereals - Excluding Beer    Eggs  \\\n",
       "0         6.2224                      0.0                    8.0353  0.6859   \n",
       "1         3.4172                      0.0                    2.6734  1.6448   \n",
       "2         0.8972                      0.0                    4.2035  1.2171   \n",
       "3         1.3130                      0.0                    6.5545  0.1539   \n",
       "5         3.3076                      0.0                    1.3316  1.5706   \n",
       "..           ...                      ...                       ...     ...   \n",
       "165       2.2673                      0.0                    2.5449  0.6555   \n",
       "166       3.8238                      0.0                    3.7155  0.7839   \n",
       "167       2.0131                      0.0                   11.5271  0.5514   \n",
       "168       1.6113                      0.0                   14.3225  0.6266   \n",
       "169       2.9543                      0.0                    9.7922  0.3682   \n",
       "\n",
       "     Fish, Seafood  Fruits - Excluding Wine     Meat  ...  Vegetal Products  \\\n",
       "0           0.0327                   0.4246   6.1244  ...           28.3684   \n",
       "1           0.1445                   0.6418   8.7428  ...           17.9998   \n",
       "2           0.2008                   0.5772   3.8961  ...           35.5857   \n",
       "3           1.4155                   0.3488  11.0268  ...           34.7010   \n",
       "5           0.1664                   0.2091  19.2693  ...           19.6449   \n",
       "..             ...                      ...      ...  ...               ...   \n",
       "165         0.5707                   0.9640   7.0949  ...           33.6855   \n",
       "166         1.1217                   0.4079  26.4292  ...           16.7548   \n",
       "167         0.3847                   0.2564   8.0010  ...           37.4535   \n",
       "168         1.0070                   0.1343   4.9010  ...           40.3939   \n",
       "169         0.2455                   0.0614   4.5674  ...           39.6248   \n",
       "\n",
       "     Vegetable Oils  Vegetables  Obesity  Undernourished  Confirmed    Deaths  \\\n",
       "0           17.0831      0.3593      4.5            29.8   0.125149  0.005058   \n",
       "1            9.2443      0.6503     22.3             6.2   1.733298  0.035800   \n",
       "2           27.3606      0.5145     26.6             3.9   0.208754  0.005882   \n",
       "3           22.4638      0.1231      6.8              25   0.050049  0.001144   \n",
       "5           17.3147      0.1878     28.5             4.6   3.312740  0.090444   \n",
       "..              ...         ...      ...             ...        ...       ...   \n",
       "165         29.5211      0.1851     25.2            21.2   0.377466  0.003351   \n",
       "166          5.6211      0.6373      2.1             9.3   0.001457  0.000036   \n",
       "167         23.6312      0.1667     14.1            38.9   0.006987  0.002032   \n",
       "168         15.2848      0.1567      6.5            46.7   0.099663  0.001996   \n",
       "169         26.9396      0.0789     12.3            51.3   0.076418  0.002079   \n",
       "\n",
       "     Recovered    Active  Population  \n",
       "0     0.098263  0.021827  38928000.0  \n",
       "1     0.874560  0.822939   2838000.0  \n",
       "2     0.137268  0.065604  44357000.0  \n",
       "3     0.027440  0.021465  32522000.0  \n",
       "5     2.953302  0.268993  45377000.0  \n",
       "..         ...       ...         ...  \n",
       "165   0.359703  0.014411  28645000.0  \n",
       "166   0.001295  0.000126  96209000.0  \n",
       "167   0.004640  0.000315  29826000.0  \n",
       "168   0.094696  0.002970  18384000.0  \n",
       "169   0.064280  0.010059  14863000.0  \n",
       "\n",
       "[154 rows x 31 columns]"
      ]
     },
     "execution_count": 13,
     "metadata": {},
     "output_type": "execute_result"
    }
   ],
   "source": [
    "fat_quantity_clean"
   ]
  },
  {
   "cell_type": "code",
   "execution_count": 14,
   "metadata": {},
   "outputs": [],
   "source": [
    "fat_quantity_clean = fat_quantity_clean.astype({'Undernourished':'float64'})"
   ]
  },
  {
   "cell_type": "code",
   "execution_count": 15,
   "metadata": {},
   "outputs": [
    {
     "name": "stdout",
     "output_type": "stream",
     "text": [
      "<class 'pandas.core.frame.DataFrame'>\n",
      "Index: 154 entries, 0 to 169\n",
      "Data columns (total 31 columns):\n",
      " #   Column                    Non-Null Count  Dtype  \n",
      "---  ------                    --------------  -----  \n",
      " 0   Country                   154 non-null    object \n",
      " 1   Alcoholic Beverages       154 non-null    float64\n",
      " 2   Animal Products           154 non-null    float64\n",
      " 3   Animal fats               154 non-null    float64\n",
      " 4   Aquatic Products, Other   154 non-null    float64\n",
      " 5   Cereals - Excluding Beer  154 non-null    float64\n",
      " 6   Eggs                      154 non-null    float64\n",
      " 7   Fish, Seafood             154 non-null    float64\n",
      " 8   Fruits - Excluding Wine   154 non-null    float64\n",
      " 9   Meat                      154 non-null    float64\n",
      " 10  Miscellaneous             154 non-null    float64\n",
      " 11  Milk - Excluding Butter   154 non-null    float64\n",
      " 12  Offals                    154 non-null    float64\n",
      " 13  Oilcrops                  154 non-null    float64\n",
      " 14  Pulses                    154 non-null    float64\n",
      " 15  Spices                    154 non-null    float64\n",
      " 16  Starchy Roots             154 non-null    float64\n",
      " 17  Stimulants                154 non-null    float64\n",
      " 18  Sugar Crops               154 non-null    float64\n",
      " 19  Sugar & Sweeteners        154 non-null    float64\n",
      " 20  Treenuts                  154 non-null    float64\n",
      " 21  Vegetal Products          154 non-null    float64\n",
      " 22  Vegetable Oils            154 non-null    float64\n",
      " 23  Vegetables                154 non-null    float64\n",
      " 24  Obesity                   154 non-null    float64\n",
      " 25  Undernourished            154 non-null    float64\n",
      " 26  Confirmed                 154 non-null    float64\n",
      " 27  Deaths                    154 non-null    float64\n",
      " 28  Recovered                 154 non-null    float64\n",
      " 29  Active                    154 non-null    float64\n",
      " 30  Population                154 non-null    float64\n",
      "dtypes: float64(30), object(1)\n",
      "memory usage: 38.5+ KB\n"
     ]
    }
   ],
   "source": [
    "fat_quantity_clean.info()"
   ]
  },
  {
   "attachments": {},
   "cell_type": "markdown",
   "metadata": {},
   "source": [
    "# Clustering"
   ]
  },
  {
   "attachments": {},
   "cell_type": "markdown",
   "metadata": {},
   "source": [
    "## Data preparation"
   ]
  },
  {
   "attachments": {},
   "cell_type": "markdown",
   "metadata": {},
   "source": [
    "Scale the dataset"
   ]
  },
  {
   "cell_type": "code",
   "execution_count": 16,
   "metadata": {},
   "outputs": [
    {
     "data": {
      "text/plain": [
       "Index(['Country', 'Alcoholic Beverages', 'Animal Products', 'Animal fats',\n",
       "       'Aquatic Products, Other', 'Cereals - Excluding Beer', 'Eggs',\n",
       "       'Fish, Seafood', 'Fruits - Excluding Wine', 'Meat', 'Miscellaneous',\n",
       "       'Milk - Excluding Butter', 'Offals', 'Oilcrops', 'Pulses', 'Spices',\n",
       "       'Starchy Roots', 'Stimulants', 'Sugar Crops', 'Sugar & Sweeteners',\n",
       "       'Treenuts', 'Vegetal Products', 'Vegetable Oils', 'Vegetables',\n",
       "       'Obesity', 'Undernourished', 'Confirmed', 'Deaths', 'Recovered',\n",
       "       'Active', 'Population'],\n",
       "      dtype='object')"
      ]
     },
     "execution_count": 16,
     "metadata": {},
     "output_type": "execute_result"
    }
   ],
   "source": [
    "fat_quantity_clean.columns\n"
   ]
  },
  {
   "cell_type": "code",
   "execution_count": 17,
   "metadata": {},
   "outputs": [],
   "source": [
    "# categorical_features = ['Country'] \n",
    "# numerical_features = [['Alcoholic Beverages', 'Animal Products', 'Animal fats',\n",
    "#        'Aquatic Products, Other', 'Cereals - Excluding Beer', 'Eggs',\n",
    "#        'Fish, Seafood', 'Fruits - Excluding Wine', 'Meat', 'Miscellaneous',\n",
    "#        'Milk - Excluding Butter', 'Offals', 'Oilcrops', 'Pulses', 'Spices',\n",
    "#        'Starchy Roots', 'Stimulants', 'Sugar Crops', 'Sugar & Sweeteners',\n",
    "#        'Treenuts', 'Vegetal Products', 'Vegetable Oils', 'Vegetables',\n",
    "#        'Obesity', 'Undernourished', 'Confirmed', 'Deaths', 'Recovered',\n",
    "#        'Active', 'Population']] "
   ]
  },
  {
   "cell_type": "code",
   "execution_count": 18,
   "metadata": {},
   "outputs": [
    {
     "data": {
      "text/html": [
       "<div>\n",
       "<style scoped>\n",
       "    .dataframe tbody tr th:only-of-type {\n",
       "        vertical-align: middle;\n",
       "    }\n",
       "\n",
       "    .dataframe tbody tr th {\n",
       "        vertical-align: top;\n",
       "    }\n",
       "\n",
       "    .dataframe thead th {\n",
       "        text-align: right;\n",
       "    }\n",
       "</style>\n",
       "<table border=\"1\" class=\"dataframe\">\n",
       "  <thead>\n",
       "    <tr style=\"text-align: right;\">\n",
       "      <th></th>\n",
       "      <th>Alcoholic Beverages</th>\n",
       "      <th>Animal Products</th>\n",
       "      <th>Animal fats</th>\n",
       "      <th>Aquatic Products, Other</th>\n",
       "      <th>Cereals - Excluding Beer</th>\n",
       "      <th>Eggs</th>\n",
       "      <th>Fish, Seafood</th>\n",
       "      <th>Fruits - Excluding Wine</th>\n",
       "      <th>Meat</th>\n",
       "      <th>Miscellaneous</th>\n",
       "      <th>...</th>\n",
       "      <th>Vegetal Products</th>\n",
       "      <th>Vegetable Oils</th>\n",
       "      <th>Vegetables</th>\n",
       "      <th>Obesity</th>\n",
       "      <th>Undernourished</th>\n",
       "      <th>Confirmed</th>\n",
       "      <th>Deaths</th>\n",
       "      <th>Recovered</th>\n",
       "      <th>Active</th>\n",
       "      <th>Population</th>\n",
       "    </tr>\n",
       "  </thead>\n",
       "  <tbody>\n",
       "    <tr>\n",
       "      <th>103</th>\n",
       "      <td>0.0</td>\n",
       "      <td>15.4227</td>\n",
       "      <td>3.5807</td>\n",
       "      <td>0.0</td>\n",
       "      <td>7.1539</td>\n",
       "      <td>1.1517</td>\n",
       "      <td>1.2329</td>\n",
       "      <td>0.7014</td>\n",
       "      <td>6.9989</td>\n",
       "      <td>0.0074</td>\n",
       "      <td>...</td>\n",
       "      <td>34.5736</td>\n",
       "      <td>22.9457</td>\n",
       "      <td>0.2953</td>\n",
       "      <td>25.6</td>\n",
       "      <td>3.4</td>\n",
       "      <td>1.114892</td>\n",
       "      <td>0.018522</td>\n",
       "      <td>0.998734</td>\n",
       "      <td>0.097636</td>\n",
       "      <td>3.595200e+07</td>\n",
       "    </tr>\n",
       "    <tr>\n",
       "      <th>132</th>\n",
       "      <td>0.0</td>\n",
       "      <td>7.3284</td>\n",
       "      <td>0.6241</td>\n",
       "      <td>0.0</td>\n",
       "      <td>2.9864</td>\n",
       "      <td>0.1074</td>\n",
       "      <td>1.4361</td>\n",
       "      <td>1.2013</td>\n",
       "      <td>4.1809</td>\n",
       "      <td>0.0537</td>\n",
       "      <td>...</td>\n",
       "      <td>42.6616</td>\n",
       "      <td>17.1666</td>\n",
       "      <td>0.0738</td>\n",
       "      <td>10.6</td>\n",
       "      <td>7.0</td>\n",
       "      <td>0.480952</td>\n",
       "      <td>0.008095</td>\n",
       "      <td>0.453333</td>\n",
       "      <td>0.019524</td>\n",
       "      <td>2.100000e+05</td>\n",
       "    </tr>\n",
       "    <tr>\n",
       "      <th>110</th>\n",
       "      <td>0.0</td>\n",
       "      <td>34.1264</td>\n",
       "      <td>13.9753</td>\n",
       "      <td>0.0</td>\n",
       "      <td>1.3271</td>\n",
       "      <td>1.2111</td>\n",
       "      <td>0.6485</td>\n",
       "      <td>0.3049</td>\n",
       "      <td>13.9409</td>\n",
       "      <td>0.0000</td>\n",
       "      <td>...</td>\n",
       "      <td>15.8736</td>\n",
       "      <td>10.2689</td>\n",
       "      <td>0.2835</td>\n",
       "      <td>32.0</td>\n",
       "      <td>2.5</td>\n",
       "      <td>0.042029</td>\n",
       "      <td>0.000501</td>\n",
       "      <td>0.040405</td>\n",
       "      <td>0.001123</td>\n",
       "      <td>4.987000e+06</td>\n",
       "    </tr>\n",
       "    <tr>\n",
       "      <th>78</th>\n",
       "      <td>0.0</td>\n",
       "      <td>23.4158</td>\n",
       "      <td>3.0343</td>\n",
       "      <td>0.0</td>\n",
       "      <td>1.7405</td>\n",
       "      <td>0.8975</td>\n",
       "      <td>0.1321</td>\n",
       "      <td>0.1787</td>\n",
       "      <td>9.6740</td>\n",
       "      <td>0.0389</td>\n",
       "      <td>...</td>\n",
       "      <td>26.5822</td>\n",
       "      <td>21.7258</td>\n",
       "      <td>0.3497</td>\n",
       "      <td>21.3</td>\n",
       "      <td>2.5</td>\n",
       "      <td>0.998078</td>\n",
       "      <td>0.013634</td>\n",
       "      <td>0.847240</td>\n",
       "      <td>0.137204</td>\n",
       "      <td>1.873200e+07</td>\n",
       "    </tr>\n",
       "    <tr>\n",
       "      <th>68</th>\n",
       "      <td>0.0</td>\n",
       "      <td>16.0538</td>\n",
       "      <td>7.4859</td>\n",
       "      <td>0.0</td>\n",
       "      <td>5.1196</td>\n",
       "      <td>0.7653</td>\n",
       "      <td>0.3783</td>\n",
       "      <td>0.4046</td>\n",
       "      <td>0.9061</td>\n",
       "      <td>0.0000</td>\n",
       "      <td>...</td>\n",
       "      <td>33.9462</td>\n",
       "      <td>21.7804</td>\n",
       "      <td>0.3958</td>\n",
       "      <td>3.8</td>\n",
       "      <td>14.5</td>\n",
       "      <td>0.707533</td>\n",
       "      <td>0.010264</td>\n",
       "      <td>0.672997</td>\n",
       "      <td>0.024271</td>\n",
       "      <td>1.400100e+09</td>\n",
       "    </tr>\n",
       "  </tbody>\n",
       "</table>\n",
       "<p>5 rows × 30 columns</p>\n",
       "</div>"
      ],
      "text/plain": [
       "     Alcoholic Beverages  Animal Products  Animal fats  \\\n",
       "103                  0.0          15.4227       3.5807   \n",
       "132                  0.0           7.3284       0.6241   \n",
       "110                  0.0          34.1264      13.9753   \n",
       "78                   0.0          23.4158       3.0343   \n",
       "68                   0.0          16.0538       7.4859   \n",
       "\n",
       "     Aquatic Products, Other  Cereals - Excluding Beer    Eggs  Fish, Seafood  \\\n",
       "103                      0.0                    7.1539  1.1517         1.2329   \n",
       "132                      0.0                    2.9864  0.1074         1.4361   \n",
       "110                      0.0                    1.3271  1.2111         0.6485   \n",
       "78                       0.0                    1.7405  0.8975         0.1321   \n",
       "68                       0.0                    5.1196  0.7653         0.3783   \n",
       "\n",
       "     Fruits - Excluding Wine     Meat  Miscellaneous  ...  Vegetal Products  \\\n",
       "103                   0.7014   6.9989         0.0074  ...           34.5736   \n",
       "132                   1.2013   4.1809         0.0537  ...           42.6616   \n",
       "110                   0.3049  13.9409         0.0000  ...           15.8736   \n",
       "78                    0.1787   9.6740         0.0389  ...           26.5822   \n",
       "68                    0.4046   0.9061         0.0000  ...           33.9462   \n",
       "\n",
       "     Vegetable Oils  Vegetables  Obesity  Undernourished  Confirmed    Deaths  \\\n",
       "103         22.9457      0.2953     25.6             3.4   1.114892  0.018522   \n",
       "132         17.1666      0.0738     10.6             7.0   0.480952  0.008095   \n",
       "110         10.2689      0.2835     32.0             2.5   0.042029  0.000501   \n",
       "78          21.7258      0.3497     21.3             2.5   0.998078  0.013634   \n",
       "68          21.7804      0.3958      3.8            14.5   0.707533  0.010264   \n",
       "\n",
       "     Recovered    Active    Population  \n",
       "103   0.998734  0.097636  3.595200e+07  \n",
       "132   0.453333  0.019524  2.100000e+05  \n",
       "110   0.040405  0.001123  4.987000e+06  \n",
       "78    0.847240  0.137204  1.873200e+07  \n",
       "68    0.672997  0.024271  1.400100e+09  \n",
       "\n",
       "[5 rows x 30 columns]"
      ]
     },
     "execution_count": 18,
     "metadata": {},
     "output_type": "execute_result"
    }
   ],
   "source": [
    "import numpy as np\n",
    "from sklearn.compose import make_column_selector\n",
    "\n",
    "numerical_features = make_column_selector(dtype_include=np.number)\n",
    "numerical_columns = numerical_features(fat_quantity_clean)\n",
    "numerical_df = fat_quantity_clean[numerical_columns]\n",
    "\n",
    "numerical_df.sample(5)"
   ]
  },
  {
   "cell_type": "code",
   "execution_count": 19,
   "metadata": {},
   "outputs": [
    {
     "name": "stdout",
     "output_type": "stream",
     "text": [
      "<class 'pandas.core.frame.DataFrame'>\n"
     ]
    },
    {
     "data": {
      "text/html": [
       "<div>\n",
       "<style scoped>\n",
       "    .dataframe tbody tr th:only-of-type {\n",
       "        vertical-align: middle;\n",
       "    }\n",
       "\n",
       "    .dataframe tbody tr th {\n",
       "        vertical-align: top;\n",
       "    }\n",
       "\n",
       "    .dataframe thead th {\n",
       "        text-align: right;\n",
       "    }\n",
       "</style>\n",
       "<table border=\"1\" class=\"dataframe\">\n",
       "  <thead>\n",
       "    <tr style=\"text-align: right;\">\n",
       "      <th></th>\n",
       "      <th>Alcoholic Beverages</th>\n",
       "      <th>Animal Products</th>\n",
       "      <th>Animal fats</th>\n",
       "      <th>Aquatic Products, Other</th>\n",
       "      <th>Cereals - Excluding Beer</th>\n",
       "      <th>Eggs</th>\n",
       "      <th>Fish, Seafood</th>\n",
       "      <th>Fruits - Excluding Wine</th>\n",
       "      <th>Meat</th>\n",
       "      <th>Miscellaneous</th>\n",
       "      <th>...</th>\n",
       "      <th>Vegetal Products</th>\n",
       "      <th>Vegetable Oils</th>\n",
       "      <th>Vegetables</th>\n",
       "      <th>Obesity</th>\n",
       "      <th>Undernourished</th>\n",
       "      <th>Confirmed</th>\n",
       "      <th>Deaths</th>\n",
       "      <th>Recovered</th>\n",
       "      <th>Active</th>\n",
       "      <th>Population</th>\n",
       "    </tr>\n",
       "  </thead>\n",
       "  <tbody>\n",
       "    <tr>\n",
       "      <th>0</th>\n",
       "      <td>-0.114015</td>\n",
       "      <td>0.158510</td>\n",
       "      <td>0.616925</td>\n",
       "      <td>-0.117474</td>\n",
       "      <td>1.100886</td>\n",
       "      <td>-0.396178</td>\n",
       "      <td>-0.854818</td>\n",
       "      <td>-0.131477</td>\n",
       "      <td>-0.664272</td>\n",
       "      <td>-0.527002</td>\n",
       "      <td>...</td>\n",
       "      <td>-0.157536</td>\n",
       "      <td>-0.256098</td>\n",
       "      <td>0.256444</td>\n",
       "      <td>-1.470128</td>\n",
       "      <td>1.574643</td>\n",
       "      <td>-0.784373</td>\n",
       "      <td>-0.625624</td>\n",
       "      <td>-0.685271</td>\n",
       "      <td>-0.465950</td>\n",
       "      <td>-0.055313</td>\n",
       "    </tr>\n",
       "    <tr>\n",
       "      <th>1</th>\n",
       "      <td>-0.114015</td>\n",
       "      <td>1.453311</td>\n",
       "      <td>-0.220621</td>\n",
       "      <td>-0.117474</td>\n",
       "      <td>-0.555040</td>\n",
       "      <td>1.058390</td>\n",
       "      <td>-0.734257</td>\n",
       "      <td>0.122943</td>\n",
       "      <td>-0.074798</td>\n",
       "      <td>-0.516304</td>\n",
       "      <td>...</td>\n",
       "      <td>-1.453415</td>\n",
       "      <td>-1.408508</td>\n",
       "      <td>1.679710</td>\n",
       "      <td>0.405822</td>\n",
       "      <td>-0.436703</td>\n",
       "      <td>0.236162</td>\n",
       "      <td>0.296928</td>\n",
       "      <td>-0.034002</td>\n",
       "      <td>0.442416</td>\n",
       "      <td>-0.276192</td>\n",
       "    </tr>\n",
       "    <tr>\n",
       "      <th>2</th>\n",
       "      <td>-0.114015</td>\n",
       "      <td>-0.744082</td>\n",
       "      <td>-0.973016</td>\n",
       "      <td>-0.117474</td>\n",
       "      <td>-0.082496</td>\n",
       "      <td>0.409606</td>\n",
       "      <td>-0.673545</td>\n",
       "      <td>0.047273</td>\n",
       "      <td>-1.165924</td>\n",
       "      <td>-0.105186</td>\n",
       "      <td>...</td>\n",
       "      <td>0.744490</td>\n",
       "      <td>1.254834</td>\n",
       "      <td>1.015519</td>\n",
       "      <td>0.859001</td>\n",
       "      <td>-0.632724</td>\n",
       "      <td>-0.731317</td>\n",
       "      <td>-0.600903</td>\n",
       "      <td>-0.652549</td>\n",
       "      <td>-0.416312</td>\n",
       "      <td>-0.022087</td>\n",
       "    </tr>\n",
       "    <tr>\n",
       "      <th>3</th>\n",
       "      <td>-0.114015</td>\n",
       "      <td>-0.633280</td>\n",
       "      <td>-0.848871</td>\n",
       "      <td>-0.117474</td>\n",
       "      <td>0.643568</td>\n",
       "      <td>-1.203176</td>\n",
       "      <td>0.636349</td>\n",
       "      <td>-0.220267</td>\n",
       "      <td>0.439393</td>\n",
       "      <td>-0.305396</td>\n",
       "      <td>...</td>\n",
       "      <td>0.633919</td>\n",
       "      <td>0.534938</td>\n",
       "      <td>-0.898797</td>\n",
       "      <td>-1.227730</td>\n",
       "      <td>1.165556</td>\n",
       "      <td>-0.832032</td>\n",
       "      <td>-0.743088</td>\n",
       "      <td>-0.744688</td>\n",
       "      <td>-0.466360</td>\n",
       "      <td>-0.094519</td>\n",
       "    </tr>\n",
       "    <tr>\n",
       "      <th>5</th>\n",
       "      <td>-0.114015</td>\n",
       "      <td>1.247977</td>\n",
       "      <td>-0.253345</td>\n",
       "      <td>-0.117474</td>\n",
       "      <td>-0.969430</td>\n",
       "      <td>0.945835</td>\n",
       "      <td>-0.710640</td>\n",
       "      <td>-0.383906</td>\n",
       "      <td>2.295007</td>\n",
       "      <td>-0.776118</td>\n",
       "      <td>...</td>\n",
       "      <td>-1.247809</td>\n",
       "      <td>-0.222050</td>\n",
       "      <td>-0.582353</td>\n",
       "      <td>1.059243</td>\n",
       "      <td>-0.573065</td>\n",
       "      <td>1.238480</td>\n",
       "      <td>1.936797</td>\n",
       "      <td>1.709949</td>\n",
       "      <td>-0.185693</td>\n",
       "      <td>-0.015844</td>\n",
       "    </tr>\n",
       "    <tr>\n",
       "      <th>...</th>\n",
       "      <td>...</td>\n",
       "      <td>...</td>\n",
       "      <td>...</td>\n",
       "      <td>...</td>\n",
       "      <td>...</td>\n",
       "      <td>...</td>\n",
       "      <td>...</td>\n",
       "      <td>...</td>\n",
       "      <td>...</td>\n",
       "      <td>...</td>\n",
       "      <td>...</td>\n",
       "      <td>...</td>\n",
       "      <td>...</td>\n",
       "      <td>...</td>\n",
       "      <td>...</td>\n",
       "      <td>...</td>\n",
       "      <td>...</td>\n",
       "      <td>...</td>\n",
       "      <td>...</td>\n",
       "      <td>...</td>\n",
       "      <td>...</td>\n",
       "    </tr>\n",
       "    <tr>\n",
       "      <th>165</th>\n",
       "      <td>-0.114015</td>\n",
       "      <td>-0.505556</td>\n",
       "      <td>-0.563946</td>\n",
       "      <td>-0.117474</td>\n",
       "      <td>-0.594724</td>\n",
       "      <td>-0.442292</td>\n",
       "      <td>-0.274656</td>\n",
       "      <td>0.500357</td>\n",
       "      <td>-0.445786</td>\n",
       "      <td>-0.658437</td>\n",
       "      <td>...</td>\n",
       "      <td>0.507001</td>\n",
       "      <td>1.572457</td>\n",
       "      <td>-0.595558</td>\n",
       "      <td>0.711454</td>\n",
       "      <td>0.841695</td>\n",
       "      <td>-0.624253</td>\n",
       "      <td>-0.676841</td>\n",
       "      <td>-0.465938</td>\n",
       "      <td>-0.474359</td>\n",
       "      <td>-0.118248</td>\n",
       "    </tr>\n",
       "    <tr>\n",
       "      <th>166</th>\n",
       "      <td>-0.114015</td>\n",
       "      <td>1.609304</td>\n",
       "      <td>-0.099223</td>\n",
       "      <td>-0.117474</td>\n",
       "      <td>-0.233206</td>\n",
       "      <td>-0.247521</td>\n",
       "      <td>0.319525</td>\n",
       "      <td>-0.151039</td>\n",
       "      <td>3.906898</td>\n",
       "      <td>-0.678305</td>\n",
       "      <td>...</td>\n",
       "      <td>-1.609017</td>\n",
       "      <td>-1.941168</td>\n",
       "      <td>1.616127</td>\n",
       "      <td>-1.723066</td>\n",
       "      <td>-0.172501</td>\n",
       "      <td>-0.862868</td>\n",
       "      <td>-0.776323</td>\n",
       "      <td>-0.766623</td>\n",
       "      <td>-0.490557</td>\n",
       "      <td>0.295259</td>\n",
       "    </tr>\n",
       "    <tr>\n",
       "      <th>167</th>\n",
       "      <td>-0.114015</td>\n",
       "      <td>-0.978710</td>\n",
       "      <td>-0.639842</td>\n",
       "      <td>-0.117474</td>\n",
       "      <td>2.179265</td>\n",
       "      <td>-0.600203</td>\n",
       "      <td>-0.475233</td>\n",
       "      <td>-0.328501</td>\n",
       "      <td>-0.241798</td>\n",
       "      <td>-0.384868</td>\n",
       "      <td>...</td>\n",
       "      <td>0.977930</td>\n",
       "      <td>0.706562</td>\n",
       "      <td>-0.685552</td>\n",
       "      <td>-0.458380</td>\n",
       "      <td>2.350205</td>\n",
       "      <td>-0.859359</td>\n",
       "      <td>-0.716441</td>\n",
       "      <td>-0.763816</td>\n",
       "      <td>-0.490342</td>\n",
       "      <td>-0.111020</td>\n",
       "    </tr>\n",
       "    <tr>\n",
       "      <th>168</th>\n",
       "      <td>7.701855</td>\n",
       "      <td>-1.346086</td>\n",
       "      <td>-0.759807</td>\n",
       "      <td>-0.117474</td>\n",
       "      <td>3.042573</td>\n",
       "      <td>-0.486131</td>\n",
       "      <td>0.195836</td>\n",
       "      <td>-0.471525</td>\n",
       "      <td>-0.939694</td>\n",
       "      <td>-0.433775</td>\n",
       "      <td>...</td>\n",
       "      <td>1.345424</td>\n",
       "      <td>-0.520473</td>\n",
       "      <td>-0.734461</td>\n",
       "      <td>-1.259348</td>\n",
       "      <td>3.014971</td>\n",
       "      <td>-0.800547</td>\n",
       "      <td>-0.717506</td>\n",
       "      <td>-0.688264</td>\n",
       "      <td>-0.487332</td>\n",
       "      <td>-0.181047</td>\n",
       "    </tr>\n",
       "    <tr>\n",
       "      <th>169</th>\n",
       "      <td>-0.114015</td>\n",
       "      <td>-1.248718</td>\n",
       "      <td>-0.358829</td>\n",
       "      <td>-0.117474</td>\n",
       "      <td>1.643472</td>\n",
       "      <td>-0.878102</td>\n",
       "      <td>-0.625341</td>\n",
       "      <td>-0.556917</td>\n",
       "      <td>-1.014796</td>\n",
       "      <td>-0.508662</td>\n",
       "      <td>...</td>\n",
       "      <td>1.249301</td>\n",
       "      <td>1.192941</td>\n",
       "      <td>-1.114977</td>\n",
       "      <td>-0.648083</td>\n",
       "      <td>3.407014</td>\n",
       "      <td>-0.815298</td>\n",
       "      <td>-0.715025</td>\n",
       "      <td>-0.713781</td>\n",
       "      <td>-0.479295</td>\n",
       "      <td>-0.202596</td>\n",
       "    </tr>\n",
       "  </tbody>\n",
       "</table>\n",
       "<p>154 rows × 30 columns</p>\n",
       "</div>"
      ],
      "text/plain": [
       "     Alcoholic Beverages  Animal Products  Animal fats  \\\n",
       "0              -0.114015         0.158510     0.616925   \n",
       "1              -0.114015         1.453311    -0.220621   \n",
       "2              -0.114015        -0.744082    -0.973016   \n",
       "3              -0.114015        -0.633280    -0.848871   \n",
       "5              -0.114015         1.247977    -0.253345   \n",
       "..                   ...              ...          ...   \n",
       "165            -0.114015        -0.505556    -0.563946   \n",
       "166            -0.114015         1.609304    -0.099223   \n",
       "167            -0.114015        -0.978710    -0.639842   \n",
       "168             7.701855        -1.346086    -0.759807   \n",
       "169            -0.114015        -1.248718    -0.358829   \n",
       "\n",
       "     Aquatic Products, Other  Cereals - Excluding Beer      Eggs  \\\n",
       "0                  -0.117474                  1.100886 -0.396178   \n",
       "1                  -0.117474                 -0.555040  1.058390   \n",
       "2                  -0.117474                 -0.082496  0.409606   \n",
       "3                  -0.117474                  0.643568 -1.203176   \n",
       "5                  -0.117474                 -0.969430  0.945835   \n",
       "..                       ...                       ...       ...   \n",
       "165                -0.117474                 -0.594724 -0.442292   \n",
       "166                -0.117474                 -0.233206 -0.247521   \n",
       "167                -0.117474                  2.179265 -0.600203   \n",
       "168                -0.117474                  3.042573 -0.486131   \n",
       "169                -0.117474                  1.643472 -0.878102   \n",
       "\n",
       "     Fish, Seafood  Fruits - Excluding Wine      Meat  Miscellaneous  ...  \\\n",
       "0        -0.854818                -0.131477 -0.664272      -0.527002  ...   \n",
       "1        -0.734257                 0.122943 -0.074798      -0.516304  ...   \n",
       "2        -0.673545                 0.047273 -1.165924      -0.105186  ...   \n",
       "3         0.636349                -0.220267  0.439393      -0.305396  ...   \n",
       "5        -0.710640                -0.383906  2.295007      -0.776118  ...   \n",
       "..             ...                      ...       ...            ...  ...   \n",
       "165      -0.274656                 0.500357 -0.445786      -0.658437  ...   \n",
       "166       0.319525                -0.151039  3.906898      -0.678305  ...   \n",
       "167      -0.475233                -0.328501 -0.241798      -0.384868  ...   \n",
       "168       0.195836                -0.471525 -0.939694      -0.433775  ...   \n",
       "169      -0.625341                -0.556917 -1.014796      -0.508662  ...   \n",
       "\n",
       "     Vegetal Products  Vegetable Oils  Vegetables   Obesity  Undernourished  \\\n",
       "0           -0.157536       -0.256098    0.256444 -1.470128        1.574643   \n",
       "1           -1.453415       -1.408508    1.679710  0.405822       -0.436703   \n",
       "2            0.744490        1.254834    1.015519  0.859001       -0.632724   \n",
       "3            0.633919        0.534938   -0.898797 -1.227730        1.165556   \n",
       "5           -1.247809       -0.222050   -0.582353  1.059243       -0.573065   \n",
       "..                ...             ...         ...       ...             ...   \n",
       "165          0.507001        1.572457   -0.595558  0.711454        0.841695   \n",
       "166         -1.609017       -1.941168    1.616127 -1.723066       -0.172501   \n",
       "167          0.977930        0.706562   -0.685552 -0.458380        2.350205   \n",
       "168          1.345424       -0.520473   -0.734461 -1.259348        3.014971   \n",
       "169          1.249301        1.192941   -1.114977 -0.648083        3.407014   \n",
       "\n",
       "     Confirmed    Deaths  Recovered    Active  Population  \n",
       "0    -0.784373 -0.625624  -0.685271 -0.465950   -0.055313  \n",
       "1     0.236162  0.296928  -0.034002  0.442416   -0.276192  \n",
       "2    -0.731317 -0.600903  -0.652549 -0.416312   -0.022087  \n",
       "3    -0.832032 -0.743088  -0.744688 -0.466360   -0.094519  \n",
       "5     1.238480  1.936797   1.709949 -0.185693   -0.015844  \n",
       "..         ...       ...        ...       ...         ...  \n",
       "165  -0.624253 -0.676841  -0.465938 -0.474359   -0.118248  \n",
       "166  -0.862868 -0.776323  -0.766623 -0.490557    0.295259  \n",
       "167  -0.859359 -0.716441  -0.763816 -0.490342   -0.111020  \n",
       "168  -0.800547 -0.717506  -0.688264 -0.487332   -0.181047  \n",
       "169  -0.815298 -0.715025  -0.713781 -0.479295   -0.202596  \n",
       "\n",
       "[154 rows x 30 columns]"
      ]
     },
     "execution_count": 19,
     "metadata": {},
     "output_type": "execute_result"
    }
   ],
   "source": [
    "from sklearn.preprocessing import StandardScaler\n",
    "\n",
    "scaler = StandardScaler().set_output(transform=\"pandas\")\n",
    "fat_quantity_norm = scaler.fit_transform(numerical_df)\n",
    "print(type(fat_quantity_norm))\n",
    "fat_quantity_norm"
   ]
  },
  {
   "attachments": {},
   "cell_type": "markdown",
   "metadata": {},
   "source": [
    "## Plot some data"
   ]
  },
  {
   "attachments": {},
   "cell_type": "markdown",
   "metadata": {},
   "source": [
    "Now, we want to visualize some variables for each state. To do so, we use plotly express to have the possibility to hover on a scatter plot and see the statistics per country clearer as explained here."
   ]
  },
  {
   "attachments": {},
   "cell_type": "markdown",
   "metadata": {},
   "source": [
    "https://plotly.com/python/hover-text-and-formatting/#:~:text=Basic%20Charts%20tutorials.-,Hover%20Labels,having%20a%20hover%20label%20appear."
   ]
  },
  {
   "cell_type": "code",
   "execution_count": 20,
   "metadata": {},
   "outputs": [
    {
     "name": "stdout",
     "output_type": "stream",
     "text": [
      "Requirement already satisfied: plotly in /home/marcos.centurion@Digital-Grenoble.local/anaconda3/envs/stat3/lib/python3.11/site-packages (5.18.0)\n",
      "Requirement already satisfied: tenacity>=6.2.0 in /home/marcos.centurion@Digital-Grenoble.local/anaconda3/envs/stat3/lib/python3.11/site-packages (from plotly) (8.2.3)\n",
      "Requirement already satisfied: packaging in /home/marcos.centurion@Digital-Grenoble.local/anaconda3/envs/stat3/lib/python3.11/site-packages (from plotly) (23.2)\n"
     ]
    }
   ],
   "source": [
    "!pip install plotly"
   ]
  },
  {
   "cell_type": "code",
   "execution_count": 21,
   "metadata": {},
   "outputs": [
    {
     "name": "stdout",
     "output_type": "stream",
     "text": [
      "Requirement already satisfied: nbformat in /home/marcos.centurion@Digital-Grenoble.local/anaconda3/envs/stat3/lib/python3.11/site-packages (5.9.2)\n",
      "Requirement already satisfied: fastjsonschema in /home/marcos.centurion@Digital-Grenoble.local/anaconda3/envs/stat3/lib/python3.11/site-packages (from nbformat) (2.19.0)\n",
      "Requirement already satisfied: jsonschema>=2.6 in /home/marcos.centurion@Digital-Grenoble.local/anaconda3/envs/stat3/lib/python3.11/site-packages (from nbformat) (4.20.0)\n",
      "Requirement already satisfied: jupyter-core in /home/marcos.centurion@Digital-Grenoble.local/anaconda3/envs/stat3/lib/python3.11/site-packages (from nbformat) (5.5.0)\n",
      "Requirement already satisfied: traitlets>=5.1 in /home/marcos.centurion@Digital-Grenoble.local/anaconda3/envs/stat3/lib/python3.11/site-packages (from nbformat) (5.13.0)\n",
      "Requirement already satisfied: attrs>=22.2.0 in /home/marcos.centurion@Digital-Grenoble.local/anaconda3/envs/stat3/lib/python3.11/site-packages (from jsonschema>=2.6->nbformat) (23.1.0)\n",
      "Requirement already satisfied: jsonschema-specifications>=2023.03.6 in /home/marcos.centurion@Digital-Grenoble.local/anaconda3/envs/stat3/lib/python3.11/site-packages (from jsonschema>=2.6->nbformat) (2023.11.2)\n",
      "Requirement already satisfied: referencing>=0.28.4 in /home/marcos.centurion@Digital-Grenoble.local/anaconda3/envs/stat3/lib/python3.11/site-packages (from jsonschema>=2.6->nbformat) (0.32.0)\n",
      "Requirement already satisfied: rpds-py>=0.7.1 in /home/marcos.centurion@Digital-Grenoble.local/anaconda3/envs/stat3/lib/python3.11/site-packages (from jsonschema>=2.6->nbformat) (0.13.2)\n",
      "Requirement already satisfied: platformdirs>=2.5 in /home/marcos.centurion@Digital-Grenoble.local/anaconda3/envs/stat3/lib/python3.11/site-packages (from jupyter-core->nbformat) (4.0.0)\n"
     ]
    }
   ],
   "source": [
    "!pip install nbformat --upgrade"
   ]
  },
  {
   "attachments": {},
   "cell_type": "markdown",
   "metadata": {},
   "source": [
    "Plot the \"Obesity\" vs \"Deaths\" statistics"
   ]
  },
  {
   "cell_type": "code",
   "execution_count": 22,
   "metadata": {},
   "outputs": [
    {
     "data": {
      "application/vnd.plotly.v1+json": {
       "config": {
        "plotlyServerURL": "https://plot.ly"
       },
       "data": [
        {
         "hovertemplate": "Obesity=%{x}<br>Deaths=%{y}<extra></extra>",
         "legendgroup": "",
         "marker": {
          "color": "#636efa",
          "symbol": "circle"
         },
         "mode": "markers",
         "name": "",
         "orientation": "v",
         "showlegend": false,
         "type": "scatter",
         "x": [
          -1.4701284334812854,
          0.405821693070665,
          0.8590006562264734,
          -1.2277303834212019,
          1.0592425236674117,
          0.25827505390365746,
          1.2594843911083502,
          0.36366551045151985,
          0.1528845973557951,
          -1.5860579356839342,
          0.669297834440321,
          0.8590006562264734,
          0.6376806974759622,
          0.41636073872545104,
          -1.0801837442541948,
          0.0264160494983603,
          0.10018936908186389,
          -0.24759913752608168,
          0.405821693070665,
          0.9433130214647629,
          -1.4701284334812854,
          -0.827246648539325,
          -1.575518890029148,
          -0.9431761507419736,
          -1.2804256116951331,
          -1.4385112965169267,
          -1.2488084747307746,
          0.3847436017610926,
          -1.0591056529446221,
          0.764149245333397,
          -0.9958713790159047,
          0.9116958845004045,
          0.8695397018812594,
          0.4374388300350238,
          1.0592425236674117,
          0.3004312365228026,
          -0.6586219180627452,
          1.027625386703053,
          0.8906177931908318,
          0.08965032342707788,
          1.3332577106918542,
          0.44797787568980985,
          0.5639073778924586,
          -0.521614324550524,
          -1.5649798443743617,
          1.2173282084892054,
          0.679836880095107,
          0.500673103963741,
          -0.5321533702053102,
          -1.0274885159802636,
          0.5112121496185275,
          0.764149245333397,
          -0.9220980594324012,
          0.9433130214647629,
          0.03695509515314669,
          -1.2488084747307746,
          -1.0801837442541948,
          0.07911127777229149,
          0.21611887128451268,
          0.10018936908186389,
          1.0697815693221981,
          0.490134058308955,
          -1.5439017530647892,
          -1.2171913377664156,
          0.7430711540238246,
          0.9433130214647629,
          0.8906177931908318,
          0.8695397018812594,
          0.46905596699938223,
          0.6271416518211758,
          -1.4806674791360717,
          1.5756557607519373,
          0.3004312365228026,
          -1.3120427486594919,
          -1.4279722508621404,
          1.955061404324242,
          -0.32137245710958545,
          -1.4701284334812854,
          0.764149245333397,
          1.3543358020014264,
          -0.521614324550524,
          -1.0380275616350498,
          1.0487034780126254,
          0.6060635605116034,
          -1.4701284334812854,
          -1.4490503421717131,
          -0.33191150276437165,
          -1.1118008812185534,
          -1.1961132464568434,
          1.3227186650370677,
          -0.7534733289558212,
          -0.7323952376462488,
          1.0487034780126254,
          0.12126746039143667,
          0.679836880095107,
          0.753610199678611,
          -1.3120427486594919,
          -0.36352863972873045,
          -1.5439017530647892,
          0.490134058308955,
          1.42810912158493,
          0.3531264647967338,
          -1.4490503421717131,
          -1.1223399268733396,
          0.5744464235472446,
          0.6903759257498934,
          0.46905596699938223,
          -1.1223399268733396,
          0.42689978438023746,
          0.05803318646271909,
          0.06857223211750547,
          -1.3120427486594919,
          0.753610199678611,
          0.500673103963741,
          0.6376806974759622,
          0.764149245333397,
          -1.4385112965169267,
          0.5639073778924586,
          2.850880284981072,
          -0.827246648539325,
          1.7442804912285172,
          -1.1644961094924846,
          0.5322902409280998,
          -1.1539570638376984,
          0.41636073872545104,
          0.42689978438023746,
          0.21611887128451268,
          0.9011568388456181,
          0.9116958845004045,
          -1.3752770225882094,
          -1.1644961094924846,
          0.848461610571687,
          0.3847436017610926,
          0.28989219086801626,
          -0.8061685572297523,
          -1.6387531639578652,
          -1.1961132464568434,
          0.13180650604622268,
          0.932773975809977,
          1.449187212894503,
          -1.5122846161004304,
          0.8063054279525421,
          1.206789162834419,
          1.1646329802152742,
          -1.1961132464568434,
          1.9866785412886003,
          1.1013987062865565,
          -0.33191150276437165,
          0.5322902409280998,
          0.7114540170594658,
          -1.723065529196155,
          -0.45838005062180665,
          -1.2593475203855606,
          -0.6480828724079588
         ],
         "xaxis": "x",
         "y": [
          -0.6256236542429073,
          0.2969282586767745,
          -0.6009026761870516,
          -0.743088018263272,
          1.9367968187686688,
          1.7636630825102604,
          -0.671610199081285,
          0.7476460828575386,
          -0.1937276873045686,
          -0.6521331773656636,
          -0.7042199719394675,
          -0.36992278583532223,
          3.9277085702292815,
          0.6335423460775028,
          -0.7665991446005332,
          1.5505098665562729,
          2.3241660116009673,
          -0.7281968901418041,
          1.7988379895317193,
          1.7517693973496617,
          -0.767221116784042,
          -0.18369748873222722,
          -0.7774143322488316,
          -0.727432034094875,
          -0.738271261300782,
          -0.7592772927978791,
          -0.767241230322231,
          1.6014986004699336,
          -0.5294183626323294,
          0.35932515981066543,
          -0.7621658567276507,
          1.2418942573307754,
          -0.7409696268275318,
          -0.5735374148005449,
          1.9135439485200991,
          -0.2883218062495642,
          -0.5921318472956744,
          -0.7774143322488316,
          -0.10176764857027906,
          1.6004305493107314,
          -0.5707168511347332,
          -0.2194499176393385,
          -0.4301948048308563,
          -0.42403938619003506,
          -0.7301732821793452,
          -0.7707157412383789,
          -0.527197908988336,
          1.920915935779922,
          -0.6926716013303712,
          -0.6246964344250348,
          0.7081257950636168,
          0.03799895947899639,
          -0.7458333201589904,
          0.2566578046563675,
          -0.03904910504966984,
          -0.7582998814674063,
          -0.7088919523847489,
          -0.18255902279687192,
          -0.7158317055007819,
          0.13194248664332833,
          1.4133205248450982,
          -0.5490797517185331,
          -0.46938903308903385,
          -0.5680724120423241,
          1.0929577321712993,
          0.17466142463312045,
          0.4978324418319267,
          0.2007660272501395,
          2.4582228722250052,
          -0.4857573457971718,
          -0.7171409987972908,
          0.18000683158056774,
          -0.3682495743247042,
          -0.6881051248268204,
          -0.7426413216153893,
          -0.19398147770017643,
          -0.18031529831475185,
          -0.7774143322488316,
          -0.22202999576894583,
          -0.245374447274832,
          -0.7157697822964093,
          -0.7281694907832816,
          0.1086984943310682,
          1.1694166753467552,
          -0.7493456127325594,
          -0.7480791957881997,
          -0.7390565665993851,
          -0.5111546259848232,
          -0.7476284094149239,
          0.22290859197914348,
          -0.6302700569430394,
          -0.7536912589469852,
          1.9066717512323534,
          -0.7774143322488316,
          2.045040220838142,
          -0.22157735357442487,
          -0.763644886875869,
          -0.5849082677279824,
          -0.6057360280107463,
          0.9695285017037752,
          -0.7623703740942103,
          -0.7037095200634483,
          -0.7672411361944237,
          -0.7599885069800713,
          2.3202202614782856,
          -0.5584834379357105,
          0.15987105569743104,
          -0.6564601052154743,
          1.5922509465784025,
          0.03787298008197868,
          2.5758190237019494,
          -0.5375964482872609,
          1.0184114345574387,
          0.8756790462876393,
          1.3272097838884225,
          0.1806754166498585,
          -0.764439173874042,
          -0.7774143322488316,
          -0.7774143322488316,
          -0.534478764936326,
          -0.2585116241728072,
          -0.7146850518833673,
          0.24922152789027274,
          -0.7491991313021987,
          -0.11535512846191644,
          2.229262417178194,
          -0.7774143322488316,
          0.40283183881527956,
          2.247368152958955,
          -0.7563472222979123,
          -0.6846798870622444,
          -0.19706169356450196,
          1.3955912915294306,
          1.3615666530531023,
          -0.7747080749012945,
          -0.7774143322488316,
          -0.7534906773391652,
          -0.5077874812334046,
          0.20491354273697962,
          -0.1808545535357584,
          -0.7627181733305483,
          0.35694582999504315,
          -0.5877437757425265,
          2.1046953437206946,
          -0.7763593159394205,
          1.9561056231507228,
          -0.6966745890018836,
          -0.7236719289924822,
          -0.7774143322488316,
          -0.6768407584392137,
          -0.7763226058298486,
          -0.716441118400295,
          -0.7175059586862235,
          -0.7150245488431055
         ],
         "yaxis": "y"
        }
       ],
       "layout": {
        "legend": {
         "tracegroupgap": 0
        },
        "template": {
         "data": {
          "bar": [
           {
            "error_x": {
             "color": "#2a3f5f"
            },
            "error_y": {
             "color": "#2a3f5f"
            },
            "marker": {
             "line": {
              "color": "#E5ECF6",
              "width": 0.5
             },
             "pattern": {
              "fillmode": "overlay",
              "size": 10,
              "solidity": 0.2
             }
            },
            "type": "bar"
           }
          ],
          "barpolar": [
           {
            "marker": {
             "line": {
              "color": "#E5ECF6",
              "width": 0.5
             },
             "pattern": {
              "fillmode": "overlay",
              "size": 10,
              "solidity": 0.2
             }
            },
            "type": "barpolar"
           }
          ],
          "carpet": [
           {
            "aaxis": {
             "endlinecolor": "#2a3f5f",
             "gridcolor": "white",
             "linecolor": "white",
             "minorgridcolor": "white",
             "startlinecolor": "#2a3f5f"
            },
            "baxis": {
             "endlinecolor": "#2a3f5f",
             "gridcolor": "white",
             "linecolor": "white",
             "minorgridcolor": "white",
             "startlinecolor": "#2a3f5f"
            },
            "type": "carpet"
           }
          ],
          "choropleth": [
           {
            "colorbar": {
             "outlinewidth": 0,
             "ticks": ""
            },
            "type": "choropleth"
           }
          ],
          "contour": [
           {
            "colorbar": {
             "outlinewidth": 0,
             "ticks": ""
            },
            "colorscale": [
             [
              0,
              "#0d0887"
             ],
             [
              0.1111111111111111,
              "#46039f"
             ],
             [
              0.2222222222222222,
              "#7201a8"
             ],
             [
              0.3333333333333333,
              "#9c179e"
             ],
             [
              0.4444444444444444,
              "#bd3786"
             ],
             [
              0.5555555555555556,
              "#d8576b"
             ],
             [
              0.6666666666666666,
              "#ed7953"
             ],
             [
              0.7777777777777778,
              "#fb9f3a"
             ],
             [
              0.8888888888888888,
              "#fdca26"
             ],
             [
              1,
              "#f0f921"
             ]
            ],
            "type": "contour"
           }
          ],
          "contourcarpet": [
           {
            "colorbar": {
             "outlinewidth": 0,
             "ticks": ""
            },
            "type": "contourcarpet"
           }
          ],
          "heatmap": [
           {
            "colorbar": {
             "outlinewidth": 0,
             "ticks": ""
            },
            "colorscale": [
             [
              0,
              "#0d0887"
             ],
             [
              0.1111111111111111,
              "#46039f"
             ],
             [
              0.2222222222222222,
              "#7201a8"
             ],
             [
              0.3333333333333333,
              "#9c179e"
             ],
             [
              0.4444444444444444,
              "#bd3786"
             ],
             [
              0.5555555555555556,
              "#d8576b"
             ],
             [
              0.6666666666666666,
              "#ed7953"
             ],
             [
              0.7777777777777778,
              "#fb9f3a"
             ],
             [
              0.8888888888888888,
              "#fdca26"
             ],
             [
              1,
              "#f0f921"
             ]
            ],
            "type": "heatmap"
           }
          ],
          "heatmapgl": [
           {
            "colorbar": {
             "outlinewidth": 0,
             "ticks": ""
            },
            "colorscale": [
             [
              0,
              "#0d0887"
             ],
             [
              0.1111111111111111,
              "#46039f"
             ],
             [
              0.2222222222222222,
              "#7201a8"
             ],
             [
              0.3333333333333333,
              "#9c179e"
             ],
             [
              0.4444444444444444,
              "#bd3786"
             ],
             [
              0.5555555555555556,
              "#d8576b"
             ],
             [
              0.6666666666666666,
              "#ed7953"
             ],
             [
              0.7777777777777778,
              "#fb9f3a"
             ],
             [
              0.8888888888888888,
              "#fdca26"
             ],
             [
              1,
              "#f0f921"
             ]
            ],
            "type": "heatmapgl"
           }
          ],
          "histogram": [
           {
            "marker": {
             "pattern": {
              "fillmode": "overlay",
              "size": 10,
              "solidity": 0.2
             }
            },
            "type": "histogram"
           }
          ],
          "histogram2d": [
           {
            "colorbar": {
             "outlinewidth": 0,
             "ticks": ""
            },
            "colorscale": [
             [
              0,
              "#0d0887"
             ],
             [
              0.1111111111111111,
              "#46039f"
             ],
             [
              0.2222222222222222,
              "#7201a8"
             ],
             [
              0.3333333333333333,
              "#9c179e"
             ],
             [
              0.4444444444444444,
              "#bd3786"
             ],
             [
              0.5555555555555556,
              "#d8576b"
             ],
             [
              0.6666666666666666,
              "#ed7953"
             ],
             [
              0.7777777777777778,
              "#fb9f3a"
             ],
             [
              0.8888888888888888,
              "#fdca26"
             ],
             [
              1,
              "#f0f921"
             ]
            ],
            "type": "histogram2d"
           }
          ],
          "histogram2dcontour": [
           {
            "colorbar": {
             "outlinewidth": 0,
             "ticks": ""
            },
            "colorscale": [
             [
              0,
              "#0d0887"
             ],
             [
              0.1111111111111111,
              "#46039f"
             ],
             [
              0.2222222222222222,
              "#7201a8"
             ],
             [
              0.3333333333333333,
              "#9c179e"
             ],
             [
              0.4444444444444444,
              "#bd3786"
             ],
             [
              0.5555555555555556,
              "#d8576b"
             ],
             [
              0.6666666666666666,
              "#ed7953"
             ],
             [
              0.7777777777777778,
              "#fb9f3a"
             ],
             [
              0.8888888888888888,
              "#fdca26"
             ],
             [
              1,
              "#f0f921"
             ]
            ],
            "type": "histogram2dcontour"
           }
          ],
          "mesh3d": [
           {
            "colorbar": {
             "outlinewidth": 0,
             "ticks": ""
            },
            "type": "mesh3d"
           }
          ],
          "parcoords": [
           {
            "line": {
             "colorbar": {
              "outlinewidth": 0,
              "ticks": ""
             }
            },
            "type": "parcoords"
           }
          ],
          "pie": [
           {
            "automargin": true,
            "type": "pie"
           }
          ],
          "scatter": [
           {
            "fillpattern": {
             "fillmode": "overlay",
             "size": 10,
             "solidity": 0.2
            },
            "type": "scatter"
           }
          ],
          "scatter3d": [
           {
            "line": {
             "colorbar": {
              "outlinewidth": 0,
              "ticks": ""
             }
            },
            "marker": {
             "colorbar": {
              "outlinewidth": 0,
              "ticks": ""
             }
            },
            "type": "scatter3d"
           }
          ],
          "scattercarpet": [
           {
            "marker": {
             "colorbar": {
              "outlinewidth": 0,
              "ticks": ""
             }
            },
            "type": "scattercarpet"
           }
          ],
          "scattergeo": [
           {
            "marker": {
             "colorbar": {
              "outlinewidth": 0,
              "ticks": ""
             }
            },
            "type": "scattergeo"
           }
          ],
          "scattergl": [
           {
            "marker": {
             "colorbar": {
              "outlinewidth": 0,
              "ticks": ""
             }
            },
            "type": "scattergl"
           }
          ],
          "scattermapbox": [
           {
            "marker": {
             "colorbar": {
              "outlinewidth": 0,
              "ticks": ""
             }
            },
            "type": "scattermapbox"
           }
          ],
          "scatterpolar": [
           {
            "marker": {
             "colorbar": {
              "outlinewidth": 0,
              "ticks": ""
             }
            },
            "type": "scatterpolar"
           }
          ],
          "scatterpolargl": [
           {
            "marker": {
             "colorbar": {
              "outlinewidth": 0,
              "ticks": ""
             }
            },
            "type": "scatterpolargl"
           }
          ],
          "scatterternary": [
           {
            "marker": {
             "colorbar": {
              "outlinewidth": 0,
              "ticks": ""
             }
            },
            "type": "scatterternary"
           }
          ],
          "surface": [
           {
            "colorbar": {
             "outlinewidth": 0,
             "ticks": ""
            },
            "colorscale": [
             [
              0,
              "#0d0887"
             ],
             [
              0.1111111111111111,
              "#46039f"
             ],
             [
              0.2222222222222222,
              "#7201a8"
             ],
             [
              0.3333333333333333,
              "#9c179e"
             ],
             [
              0.4444444444444444,
              "#bd3786"
             ],
             [
              0.5555555555555556,
              "#d8576b"
             ],
             [
              0.6666666666666666,
              "#ed7953"
             ],
             [
              0.7777777777777778,
              "#fb9f3a"
             ],
             [
              0.8888888888888888,
              "#fdca26"
             ],
             [
              1,
              "#f0f921"
             ]
            ],
            "type": "surface"
           }
          ],
          "table": [
           {
            "cells": {
             "fill": {
              "color": "#EBF0F8"
             },
             "line": {
              "color": "white"
             }
            },
            "header": {
             "fill": {
              "color": "#C8D4E3"
             },
             "line": {
              "color": "white"
             }
            },
            "type": "table"
           }
          ]
         },
         "layout": {
          "annotationdefaults": {
           "arrowcolor": "#2a3f5f",
           "arrowhead": 0,
           "arrowwidth": 1
          },
          "autotypenumbers": "strict",
          "coloraxis": {
           "colorbar": {
            "outlinewidth": 0,
            "ticks": ""
           }
          },
          "colorscale": {
           "diverging": [
            [
             0,
             "#8e0152"
            ],
            [
             0.1,
             "#c51b7d"
            ],
            [
             0.2,
             "#de77ae"
            ],
            [
             0.3,
             "#f1b6da"
            ],
            [
             0.4,
             "#fde0ef"
            ],
            [
             0.5,
             "#f7f7f7"
            ],
            [
             0.6,
             "#e6f5d0"
            ],
            [
             0.7,
             "#b8e186"
            ],
            [
             0.8,
             "#7fbc41"
            ],
            [
             0.9,
             "#4d9221"
            ],
            [
             1,
             "#276419"
            ]
           ],
           "sequential": [
            [
             0,
             "#0d0887"
            ],
            [
             0.1111111111111111,
             "#46039f"
            ],
            [
             0.2222222222222222,
             "#7201a8"
            ],
            [
             0.3333333333333333,
             "#9c179e"
            ],
            [
             0.4444444444444444,
             "#bd3786"
            ],
            [
             0.5555555555555556,
             "#d8576b"
            ],
            [
             0.6666666666666666,
             "#ed7953"
            ],
            [
             0.7777777777777778,
             "#fb9f3a"
            ],
            [
             0.8888888888888888,
             "#fdca26"
            ],
            [
             1,
             "#f0f921"
            ]
           ],
           "sequentialminus": [
            [
             0,
             "#0d0887"
            ],
            [
             0.1111111111111111,
             "#46039f"
            ],
            [
             0.2222222222222222,
             "#7201a8"
            ],
            [
             0.3333333333333333,
             "#9c179e"
            ],
            [
             0.4444444444444444,
             "#bd3786"
            ],
            [
             0.5555555555555556,
             "#d8576b"
            ],
            [
             0.6666666666666666,
             "#ed7953"
            ],
            [
             0.7777777777777778,
             "#fb9f3a"
            ],
            [
             0.8888888888888888,
             "#fdca26"
            ],
            [
             1,
             "#f0f921"
            ]
           ]
          },
          "colorway": [
           "#636efa",
           "#EF553B",
           "#00cc96",
           "#ab63fa",
           "#FFA15A",
           "#19d3f3",
           "#FF6692",
           "#B6E880",
           "#FF97FF",
           "#FECB52"
          ],
          "font": {
           "color": "#2a3f5f"
          },
          "geo": {
           "bgcolor": "white",
           "lakecolor": "white",
           "landcolor": "#E5ECF6",
           "showlakes": true,
           "showland": true,
           "subunitcolor": "white"
          },
          "hoverlabel": {
           "align": "left"
          },
          "hovermode": "closest",
          "mapbox": {
           "style": "light"
          },
          "paper_bgcolor": "white",
          "plot_bgcolor": "#E5ECF6",
          "polar": {
           "angularaxis": {
            "gridcolor": "white",
            "linecolor": "white",
            "ticks": ""
           },
           "bgcolor": "#E5ECF6",
           "radialaxis": {
            "gridcolor": "white",
            "linecolor": "white",
            "ticks": ""
           }
          },
          "scene": {
           "xaxis": {
            "backgroundcolor": "#E5ECF6",
            "gridcolor": "white",
            "gridwidth": 2,
            "linecolor": "white",
            "showbackground": true,
            "ticks": "",
            "zerolinecolor": "white"
           },
           "yaxis": {
            "backgroundcolor": "#E5ECF6",
            "gridcolor": "white",
            "gridwidth": 2,
            "linecolor": "white",
            "showbackground": true,
            "ticks": "",
            "zerolinecolor": "white"
           },
           "zaxis": {
            "backgroundcolor": "#E5ECF6",
            "gridcolor": "white",
            "gridwidth": 2,
            "linecolor": "white",
            "showbackground": true,
            "ticks": "",
            "zerolinecolor": "white"
           }
          },
          "shapedefaults": {
           "line": {
            "color": "#2a3f5f"
           }
          },
          "ternary": {
           "aaxis": {
            "gridcolor": "white",
            "linecolor": "white",
            "ticks": ""
           },
           "baxis": {
            "gridcolor": "white",
            "linecolor": "white",
            "ticks": ""
           },
           "bgcolor": "#E5ECF6",
           "caxis": {
            "gridcolor": "white",
            "linecolor": "white",
            "ticks": ""
           }
          },
          "title": {
           "x": 0.05
          },
          "xaxis": {
           "automargin": true,
           "gridcolor": "white",
           "linecolor": "white",
           "ticks": "",
           "title": {
            "standoff": 15
           },
           "zerolinecolor": "white",
           "zerolinewidth": 2
          },
          "yaxis": {
           "automargin": true,
           "gridcolor": "white",
           "linecolor": "white",
           "ticks": "",
           "title": {
            "standoff": 15
           },
           "zerolinecolor": "white",
           "zerolinewidth": 2
          }
         }
        },
        "title": {
         "text": "Obesity vs Deaths"
        },
        "xaxis": {
         "anchor": "y",
         "domain": [
          0,
          1
         ],
         "title": {
          "text": "Obesity"
         }
        },
        "yaxis": {
         "anchor": "x",
         "domain": [
          0,
          1
         ],
         "title": {
          "text": "Deaths"
         }
        }
       }
      }
     },
     "metadata": {},
     "output_type": "display_data"
    }
   ],
   "source": [
    "import plotly.express as px\n",
    "\n",
    "obesity_deaths = fat_quantity_norm[[\"Obesity\", \"Deaths\"]]\n",
    "\n",
    "fig = px.scatter(obesity_deaths, x=\"Obesity\", y=\"Deaths\", title=\"Obesity vs Deaths\")\n",
    "fig.show()"
   ]
  },
  {
   "attachments": {},
   "cell_type": "markdown",
   "metadata": {},
   "source": [
    "Plot the \"Animal fats\" vs \"Deaths\" statistics"
   ]
  },
  {
   "cell_type": "code",
   "execution_count": 23,
   "metadata": {},
   "outputs": [
    {
     "data": {
      "application/vnd.plotly.v1+json": {
       "config": {
        "plotlyServerURL": "https://plot.ly"
       },
       "data": [
        {
         "hovertemplate": "Animal fats=%{x}<br>Deaths=%{y}<extra></extra>",
         "legendgroup": "",
         "marker": {
          "color": "#636efa",
          "symbol": "circle"
         },
         "mode": "markers",
         "name": "",
         "orientation": "v",
         "showlegend": false,
         "type": "scatter",
         "x": [
          0.6169246385343449,
          -0.2206214437217168,
          -0.9730156142925407,
          -0.8488705761483547,
          -0.2533446187592415,
          0.628718118588927,
          0.13342181320799862,
          2.5962288746316315,
          1.0875591349910074,
          -0.8715916858231322,
          -0.05458715870011549,
          1.1077125502741545,
          2.5280655456072982,
          1.6881309104287898,
          -1.0971009386136654,
          0.003693532607592713,
          -0.5108007668875039,
          -0.007502809216377773,
          0.0616756547999952,
          1.1558418916614626,
          -1.06231763668053,
          0.040656389082461004,
          -0.9769865835261088,
          -1.0068733519682276,
          -0.3819980505445462,
          -0.3075349131872591,
          -0.2117837979086626,
          -0.7088715179814262,
          -1.1396768944562843,
          0.5803797788209046,
          -1.1595018837125948,
          0.9821642372880309,
          -0.27911113341013916,
          -0.6826272927460394,
          1.6555570199489182,
          3.0136583547407856,
          -0.8239101981087827,
          -0.10444820095619795,
          -0.5762471169625533,
          0.16829468587572582,
          -0.2188598859414121,
          0.6669946791711413,
          0.7099289179521272,
          -0.3029369488115485,
          -0.8122062887887923,
          1.054597104661238,
          0.6635909912566542,
          1.505824608623018,
          -1.0205776743607677,
          -1.1648164139650394,
          0.9270782355140954,
          2.045876424388298,
          -1.000245117608437,
          -0.7336527545518146,
          -0.7147533295529522,
          -1.0152631441083229,
          -1.0535695616020677,
          -0.9417255710084842,
          -0.7189631540787652,
          -0.44636955180449456,
          2.433956560462884,
          0.8815165885184179,
          0.9941667157233273,
          -1.0304304551658618,
          0.5616296383796954,
          -0.10280607082201557,
          1.3408950293280486,
          -0.8584546447496735,
          0.3693212712111763,
          0.6019066120344589,
          -0.6706845281338041,
          -0.6826870065691004,
          -0.33494355797233916,
          -0.6813135886386934,
          0.028713624470225692,
          -0.5963408184226393,
          -0.21166437026254026,
          -0.05873726940286726,
          1.8770654465943521,
          -0.5948778297576405,
          -1.0829487625481666,
          -1.1168662140469148,
          1.5620750299466464,
          0.6934180458757119,
          -0.719769290690091,
          -0.45675975701713917,
          -0.7986213940423746,
          0.20445140573926826,
          -0.8767867884294547,
          0.7462946361963837,
          -0.7188437264326428,
          -0.8062050495711441,
          -0.2697957770125956,
          0.40580641710155524,
          -0.07984610585499315,
          -0.1718053933692049,
          -0.9065839861369818,
          -0.2505082121638356,
          -0.2533446187592415,
          0.7441150816546506,
          2.9317011325893207,
          -0.5449570736784968,
          -0.44750411444265675,
          -0.9997076932008865,
          0.8868012618593318,
          0.6832368390437812,
          -0.5329247383316699,
          1.4373029966603181,
          1.5018834963009806,
          -0.08211523113131787,
          -0.9108236675743252,
          0.9599805520208038,
          2.4529754131078687,
          1.6248641148954734,
          0.8188469312157131,
          0.9088058056573756,
          -0.9314547934419617,
          -0.9169443344380959,
          0.185671408386528,
          -1.054554839682577,
          -0.4504300917726545,
          -1.0057387893300653,
          -0.02577523907309789,
          -1.1907919269966512,
          3.2189246215135796,
          1.745038183806091,
          -0.20408071473377087,
          -0.9858540862506935,
          -0.5051876675197533,
          -1.145498992204749,
          -0.7305774926641639,
          -1.0065449259413912,
          1.6596474168286088,
          0.6189847654299554,
          -0.7434756784453782,
          -0.6334529594551604,
          -1.0811274909448005,
          0.3556169488186364,
          -0.44839982178857446,
          -0.36333748083792855,
          -0.9534593372400053,
          0.3994468949455399,
          -0.045540514506347385,
          0.031460460331039775,
          -0.7798413966896346,
          -0.25522560418566853,
          -0.20154287725367084,
          -0.4979324380178204,
          -0.6577564854410592,
          -0.563946069411951,
          -0.09922324143834498,
          -0.6398423385227063,
          -0.7598074090526099,
          -0.3588290871968098
         ],
         "xaxis": "x",
         "y": [
          -0.6256236542429073,
          0.2969282586767745,
          -0.6009026761870516,
          -0.743088018263272,
          1.9367968187686688,
          1.7636630825102604,
          -0.671610199081285,
          0.7476460828575386,
          -0.1937276873045686,
          -0.6521331773656636,
          -0.7042199719394675,
          -0.36992278583532223,
          3.9277085702292815,
          0.6335423460775028,
          -0.7665991446005332,
          1.5505098665562729,
          2.3241660116009673,
          -0.7281968901418041,
          1.7988379895317193,
          1.7517693973496617,
          -0.767221116784042,
          -0.18369748873222722,
          -0.7774143322488316,
          -0.727432034094875,
          -0.738271261300782,
          -0.7592772927978791,
          -0.767241230322231,
          1.6014986004699336,
          -0.5294183626323294,
          0.35932515981066543,
          -0.7621658567276507,
          1.2418942573307754,
          -0.7409696268275318,
          -0.5735374148005449,
          1.9135439485200991,
          -0.2883218062495642,
          -0.5921318472956744,
          -0.7774143322488316,
          -0.10176764857027906,
          1.6004305493107314,
          -0.5707168511347332,
          -0.2194499176393385,
          -0.4301948048308563,
          -0.42403938619003506,
          -0.7301732821793452,
          -0.7707157412383789,
          -0.527197908988336,
          1.920915935779922,
          -0.6926716013303712,
          -0.6246964344250348,
          0.7081257950636168,
          0.03799895947899639,
          -0.7458333201589904,
          0.2566578046563675,
          -0.03904910504966984,
          -0.7582998814674063,
          -0.7088919523847489,
          -0.18255902279687192,
          -0.7158317055007819,
          0.13194248664332833,
          1.4133205248450982,
          -0.5490797517185331,
          -0.46938903308903385,
          -0.5680724120423241,
          1.0929577321712993,
          0.17466142463312045,
          0.4978324418319267,
          0.2007660272501395,
          2.4582228722250052,
          -0.4857573457971718,
          -0.7171409987972908,
          0.18000683158056774,
          -0.3682495743247042,
          -0.6881051248268204,
          -0.7426413216153893,
          -0.19398147770017643,
          -0.18031529831475185,
          -0.7774143322488316,
          -0.22202999576894583,
          -0.245374447274832,
          -0.7157697822964093,
          -0.7281694907832816,
          0.1086984943310682,
          1.1694166753467552,
          -0.7493456127325594,
          -0.7480791957881997,
          -0.7390565665993851,
          -0.5111546259848232,
          -0.7476284094149239,
          0.22290859197914348,
          -0.6302700569430394,
          -0.7536912589469852,
          1.9066717512323534,
          -0.7774143322488316,
          2.045040220838142,
          -0.22157735357442487,
          -0.763644886875869,
          -0.5849082677279824,
          -0.6057360280107463,
          0.9695285017037752,
          -0.7623703740942103,
          -0.7037095200634483,
          -0.7672411361944237,
          -0.7599885069800713,
          2.3202202614782856,
          -0.5584834379357105,
          0.15987105569743104,
          -0.6564601052154743,
          1.5922509465784025,
          0.03787298008197868,
          2.5758190237019494,
          -0.5375964482872609,
          1.0184114345574387,
          0.8756790462876393,
          1.3272097838884225,
          0.1806754166498585,
          -0.764439173874042,
          -0.7774143322488316,
          -0.7774143322488316,
          -0.534478764936326,
          -0.2585116241728072,
          -0.7146850518833673,
          0.24922152789027274,
          -0.7491991313021987,
          -0.11535512846191644,
          2.229262417178194,
          -0.7774143322488316,
          0.40283183881527956,
          2.247368152958955,
          -0.7563472222979123,
          -0.6846798870622444,
          -0.19706169356450196,
          1.3955912915294306,
          1.3615666530531023,
          -0.7747080749012945,
          -0.7774143322488316,
          -0.7534906773391652,
          -0.5077874812334046,
          0.20491354273697962,
          -0.1808545535357584,
          -0.7627181733305483,
          0.35694582999504315,
          -0.5877437757425265,
          2.1046953437206946,
          -0.7763593159394205,
          1.9561056231507228,
          -0.6966745890018836,
          -0.7236719289924822,
          -0.7774143322488316,
          -0.6768407584392137,
          -0.7763226058298486,
          -0.716441118400295,
          -0.7175059586862235,
          -0.7150245488431055
         ],
         "yaxis": "y"
        }
       ],
       "layout": {
        "legend": {
         "tracegroupgap": 0
        },
        "template": {
         "data": {
          "bar": [
           {
            "error_x": {
             "color": "#2a3f5f"
            },
            "error_y": {
             "color": "#2a3f5f"
            },
            "marker": {
             "line": {
              "color": "#E5ECF6",
              "width": 0.5
             },
             "pattern": {
              "fillmode": "overlay",
              "size": 10,
              "solidity": 0.2
             }
            },
            "type": "bar"
           }
          ],
          "barpolar": [
           {
            "marker": {
             "line": {
              "color": "#E5ECF6",
              "width": 0.5
             },
             "pattern": {
              "fillmode": "overlay",
              "size": 10,
              "solidity": 0.2
             }
            },
            "type": "barpolar"
           }
          ],
          "carpet": [
           {
            "aaxis": {
             "endlinecolor": "#2a3f5f",
             "gridcolor": "white",
             "linecolor": "white",
             "minorgridcolor": "white",
             "startlinecolor": "#2a3f5f"
            },
            "baxis": {
             "endlinecolor": "#2a3f5f",
             "gridcolor": "white",
             "linecolor": "white",
             "minorgridcolor": "white",
             "startlinecolor": "#2a3f5f"
            },
            "type": "carpet"
           }
          ],
          "choropleth": [
           {
            "colorbar": {
             "outlinewidth": 0,
             "ticks": ""
            },
            "type": "choropleth"
           }
          ],
          "contour": [
           {
            "colorbar": {
             "outlinewidth": 0,
             "ticks": ""
            },
            "colorscale": [
             [
              0,
              "#0d0887"
             ],
             [
              0.1111111111111111,
              "#46039f"
             ],
             [
              0.2222222222222222,
              "#7201a8"
             ],
             [
              0.3333333333333333,
              "#9c179e"
             ],
             [
              0.4444444444444444,
              "#bd3786"
             ],
             [
              0.5555555555555556,
              "#d8576b"
             ],
             [
              0.6666666666666666,
              "#ed7953"
             ],
             [
              0.7777777777777778,
              "#fb9f3a"
             ],
             [
              0.8888888888888888,
              "#fdca26"
             ],
             [
              1,
              "#f0f921"
             ]
            ],
            "type": "contour"
           }
          ],
          "contourcarpet": [
           {
            "colorbar": {
             "outlinewidth": 0,
             "ticks": ""
            },
            "type": "contourcarpet"
           }
          ],
          "heatmap": [
           {
            "colorbar": {
             "outlinewidth": 0,
             "ticks": ""
            },
            "colorscale": [
             [
              0,
              "#0d0887"
             ],
             [
              0.1111111111111111,
              "#46039f"
             ],
             [
              0.2222222222222222,
              "#7201a8"
             ],
             [
              0.3333333333333333,
              "#9c179e"
             ],
             [
              0.4444444444444444,
              "#bd3786"
             ],
             [
              0.5555555555555556,
              "#d8576b"
             ],
             [
              0.6666666666666666,
              "#ed7953"
             ],
             [
              0.7777777777777778,
              "#fb9f3a"
             ],
             [
              0.8888888888888888,
              "#fdca26"
             ],
             [
              1,
              "#f0f921"
             ]
            ],
            "type": "heatmap"
           }
          ],
          "heatmapgl": [
           {
            "colorbar": {
             "outlinewidth": 0,
             "ticks": ""
            },
            "colorscale": [
             [
              0,
              "#0d0887"
             ],
             [
              0.1111111111111111,
              "#46039f"
             ],
             [
              0.2222222222222222,
              "#7201a8"
             ],
             [
              0.3333333333333333,
              "#9c179e"
             ],
             [
              0.4444444444444444,
              "#bd3786"
             ],
             [
              0.5555555555555556,
              "#d8576b"
             ],
             [
              0.6666666666666666,
              "#ed7953"
             ],
             [
              0.7777777777777778,
              "#fb9f3a"
             ],
             [
              0.8888888888888888,
              "#fdca26"
             ],
             [
              1,
              "#f0f921"
             ]
            ],
            "type": "heatmapgl"
           }
          ],
          "histogram": [
           {
            "marker": {
             "pattern": {
              "fillmode": "overlay",
              "size": 10,
              "solidity": 0.2
             }
            },
            "type": "histogram"
           }
          ],
          "histogram2d": [
           {
            "colorbar": {
             "outlinewidth": 0,
             "ticks": ""
            },
            "colorscale": [
             [
              0,
              "#0d0887"
             ],
             [
              0.1111111111111111,
              "#46039f"
             ],
             [
              0.2222222222222222,
              "#7201a8"
             ],
             [
              0.3333333333333333,
              "#9c179e"
             ],
             [
              0.4444444444444444,
              "#bd3786"
             ],
             [
              0.5555555555555556,
              "#d8576b"
             ],
             [
              0.6666666666666666,
              "#ed7953"
             ],
             [
              0.7777777777777778,
              "#fb9f3a"
             ],
             [
              0.8888888888888888,
              "#fdca26"
             ],
             [
              1,
              "#f0f921"
             ]
            ],
            "type": "histogram2d"
           }
          ],
          "histogram2dcontour": [
           {
            "colorbar": {
             "outlinewidth": 0,
             "ticks": ""
            },
            "colorscale": [
             [
              0,
              "#0d0887"
             ],
             [
              0.1111111111111111,
              "#46039f"
             ],
             [
              0.2222222222222222,
              "#7201a8"
             ],
             [
              0.3333333333333333,
              "#9c179e"
             ],
             [
              0.4444444444444444,
              "#bd3786"
             ],
             [
              0.5555555555555556,
              "#d8576b"
             ],
             [
              0.6666666666666666,
              "#ed7953"
             ],
             [
              0.7777777777777778,
              "#fb9f3a"
             ],
             [
              0.8888888888888888,
              "#fdca26"
             ],
             [
              1,
              "#f0f921"
             ]
            ],
            "type": "histogram2dcontour"
           }
          ],
          "mesh3d": [
           {
            "colorbar": {
             "outlinewidth": 0,
             "ticks": ""
            },
            "type": "mesh3d"
           }
          ],
          "parcoords": [
           {
            "line": {
             "colorbar": {
              "outlinewidth": 0,
              "ticks": ""
             }
            },
            "type": "parcoords"
           }
          ],
          "pie": [
           {
            "automargin": true,
            "type": "pie"
           }
          ],
          "scatter": [
           {
            "fillpattern": {
             "fillmode": "overlay",
             "size": 10,
             "solidity": 0.2
            },
            "type": "scatter"
           }
          ],
          "scatter3d": [
           {
            "line": {
             "colorbar": {
              "outlinewidth": 0,
              "ticks": ""
             }
            },
            "marker": {
             "colorbar": {
              "outlinewidth": 0,
              "ticks": ""
             }
            },
            "type": "scatter3d"
           }
          ],
          "scattercarpet": [
           {
            "marker": {
             "colorbar": {
              "outlinewidth": 0,
              "ticks": ""
             }
            },
            "type": "scattercarpet"
           }
          ],
          "scattergeo": [
           {
            "marker": {
             "colorbar": {
              "outlinewidth": 0,
              "ticks": ""
             }
            },
            "type": "scattergeo"
           }
          ],
          "scattergl": [
           {
            "marker": {
             "colorbar": {
              "outlinewidth": 0,
              "ticks": ""
             }
            },
            "type": "scattergl"
           }
          ],
          "scattermapbox": [
           {
            "marker": {
             "colorbar": {
              "outlinewidth": 0,
              "ticks": ""
             }
            },
            "type": "scattermapbox"
           }
          ],
          "scatterpolar": [
           {
            "marker": {
             "colorbar": {
              "outlinewidth": 0,
              "ticks": ""
             }
            },
            "type": "scatterpolar"
           }
          ],
          "scatterpolargl": [
           {
            "marker": {
             "colorbar": {
              "outlinewidth": 0,
              "ticks": ""
             }
            },
            "type": "scatterpolargl"
           }
          ],
          "scatterternary": [
           {
            "marker": {
             "colorbar": {
              "outlinewidth": 0,
              "ticks": ""
             }
            },
            "type": "scatterternary"
           }
          ],
          "surface": [
           {
            "colorbar": {
             "outlinewidth": 0,
             "ticks": ""
            },
            "colorscale": [
             [
              0,
              "#0d0887"
             ],
             [
              0.1111111111111111,
              "#46039f"
             ],
             [
              0.2222222222222222,
              "#7201a8"
             ],
             [
              0.3333333333333333,
              "#9c179e"
             ],
             [
              0.4444444444444444,
              "#bd3786"
             ],
             [
              0.5555555555555556,
              "#d8576b"
             ],
             [
              0.6666666666666666,
              "#ed7953"
             ],
             [
              0.7777777777777778,
              "#fb9f3a"
             ],
             [
              0.8888888888888888,
              "#fdca26"
             ],
             [
              1,
              "#f0f921"
             ]
            ],
            "type": "surface"
           }
          ],
          "table": [
           {
            "cells": {
             "fill": {
              "color": "#EBF0F8"
             },
             "line": {
              "color": "white"
             }
            },
            "header": {
             "fill": {
              "color": "#C8D4E3"
             },
             "line": {
              "color": "white"
             }
            },
            "type": "table"
           }
          ]
         },
         "layout": {
          "annotationdefaults": {
           "arrowcolor": "#2a3f5f",
           "arrowhead": 0,
           "arrowwidth": 1
          },
          "autotypenumbers": "strict",
          "coloraxis": {
           "colorbar": {
            "outlinewidth": 0,
            "ticks": ""
           }
          },
          "colorscale": {
           "diverging": [
            [
             0,
             "#8e0152"
            ],
            [
             0.1,
             "#c51b7d"
            ],
            [
             0.2,
             "#de77ae"
            ],
            [
             0.3,
             "#f1b6da"
            ],
            [
             0.4,
             "#fde0ef"
            ],
            [
             0.5,
             "#f7f7f7"
            ],
            [
             0.6,
             "#e6f5d0"
            ],
            [
             0.7,
             "#b8e186"
            ],
            [
             0.8,
             "#7fbc41"
            ],
            [
             0.9,
             "#4d9221"
            ],
            [
             1,
             "#276419"
            ]
           ],
           "sequential": [
            [
             0,
             "#0d0887"
            ],
            [
             0.1111111111111111,
             "#46039f"
            ],
            [
             0.2222222222222222,
             "#7201a8"
            ],
            [
             0.3333333333333333,
             "#9c179e"
            ],
            [
             0.4444444444444444,
             "#bd3786"
            ],
            [
             0.5555555555555556,
             "#d8576b"
            ],
            [
             0.6666666666666666,
             "#ed7953"
            ],
            [
             0.7777777777777778,
             "#fb9f3a"
            ],
            [
             0.8888888888888888,
             "#fdca26"
            ],
            [
             1,
             "#f0f921"
            ]
           ],
           "sequentialminus": [
            [
             0,
             "#0d0887"
            ],
            [
             0.1111111111111111,
             "#46039f"
            ],
            [
             0.2222222222222222,
             "#7201a8"
            ],
            [
             0.3333333333333333,
             "#9c179e"
            ],
            [
             0.4444444444444444,
             "#bd3786"
            ],
            [
             0.5555555555555556,
             "#d8576b"
            ],
            [
             0.6666666666666666,
             "#ed7953"
            ],
            [
             0.7777777777777778,
             "#fb9f3a"
            ],
            [
             0.8888888888888888,
             "#fdca26"
            ],
            [
             1,
             "#f0f921"
            ]
           ]
          },
          "colorway": [
           "#636efa",
           "#EF553B",
           "#00cc96",
           "#ab63fa",
           "#FFA15A",
           "#19d3f3",
           "#FF6692",
           "#B6E880",
           "#FF97FF",
           "#FECB52"
          ],
          "font": {
           "color": "#2a3f5f"
          },
          "geo": {
           "bgcolor": "white",
           "lakecolor": "white",
           "landcolor": "#E5ECF6",
           "showlakes": true,
           "showland": true,
           "subunitcolor": "white"
          },
          "hoverlabel": {
           "align": "left"
          },
          "hovermode": "closest",
          "mapbox": {
           "style": "light"
          },
          "paper_bgcolor": "white",
          "plot_bgcolor": "#E5ECF6",
          "polar": {
           "angularaxis": {
            "gridcolor": "white",
            "linecolor": "white",
            "ticks": ""
           },
           "bgcolor": "#E5ECF6",
           "radialaxis": {
            "gridcolor": "white",
            "linecolor": "white",
            "ticks": ""
           }
          },
          "scene": {
           "xaxis": {
            "backgroundcolor": "#E5ECF6",
            "gridcolor": "white",
            "gridwidth": 2,
            "linecolor": "white",
            "showbackground": true,
            "ticks": "",
            "zerolinecolor": "white"
           },
           "yaxis": {
            "backgroundcolor": "#E5ECF6",
            "gridcolor": "white",
            "gridwidth": 2,
            "linecolor": "white",
            "showbackground": true,
            "ticks": "",
            "zerolinecolor": "white"
           },
           "zaxis": {
            "backgroundcolor": "#E5ECF6",
            "gridcolor": "white",
            "gridwidth": 2,
            "linecolor": "white",
            "showbackground": true,
            "ticks": "",
            "zerolinecolor": "white"
           }
          },
          "shapedefaults": {
           "line": {
            "color": "#2a3f5f"
           }
          },
          "ternary": {
           "aaxis": {
            "gridcolor": "white",
            "linecolor": "white",
            "ticks": ""
           },
           "baxis": {
            "gridcolor": "white",
            "linecolor": "white",
            "ticks": ""
           },
           "bgcolor": "#E5ECF6",
           "caxis": {
            "gridcolor": "white",
            "linecolor": "white",
            "ticks": ""
           }
          },
          "title": {
           "x": 0.05
          },
          "xaxis": {
           "automargin": true,
           "gridcolor": "white",
           "linecolor": "white",
           "ticks": "",
           "title": {
            "standoff": 15
           },
           "zerolinecolor": "white",
           "zerolinewidth": 2
          },
          "yaxis": {
           "automargin": true,
           "gridcolor": "white",
           "linecolor": "white",
           "ticks": "",
           "title": {
            "standoff": 15
           },
           "zerolinecolor": "white",
           "zerolinewidth": 2
          }
         }
        },
        "title": {
         "text": "Animal fats vs Deaths"
        },
        "xaxis": {
         "anchor": "y",
         "domain": [
          0,
          1
         ],
         "title": {
          "text": "Animal fats"
         }
        },
        "yaxis": {
         "anchor": "x",
         "domain": [
          0,
          1
         ],
         "title": {
          "text": "Deaths"
         }
        }
       }
      }
     },
     "metadata": {},
     "output_type": "display_data"
    }
   ],
   "source": [
    "\n",
    "animal_deaths = fat_quantity_norm[[\"Animal fats\", \"Deaths\"]]\n",
    "\n",
    "fig = px.scatter(animal_deaths, x=\"Animal fats\", y=\"Deaths\", title=\"Animal fats vs Deaths\")\n",
    "fig.show()"
   ]
  },
  {
   "attachments": {},
   "cell_type": "markdown",
   "metadata": {},
   "source": [
    "## K-means and Elbow method"
   ]
  },
  {
   "attachments": {},
   "cell_type": "markdown",
   "metadata": {},
   "source": [
    "We start with the K-Means model:\n",
    "- use the scikit-learn method\n",
    "- use the method you implemented.\n",
    "\n",
    "Use a graphical tool, the elbow method, to estimate the optimal number of clusters k for a given task.\n",
    "- Determine the optimal number of clusters for the previous 2 plots."
   ]
  },
  {
   "cell_type": "code",
   "execution_count": 24,
   "metadata": {},
   "outputs": [],
   "source": [
    "from sklearn.cluster import KMeans"
   ]
  },
  {
   "cell_type": "code",
   "execution_count": 43,
   "metadata": {},
   "outputs": [
    {
     "data": {
      "text/plain": [
       "[308.0,\n",
       " 138.58502118001596,\n",
       " 83.96685347858664,\n",
       " 65.24539423222441,\n",
       " 50.93677860065301,\n",
       " 40.84842508824983,\n",
       " 33.277674012140714,\n",
       " 26.622659366446424,\n",
       " 22.22874414859871]"
      ]
     },
     "execution_count": 43,
     "metadata": {},
     "output_type": "execute_result"
    }
   ],
   "source": [
    "#Optimal nbr of Clusters 1(Elbow Method)\n",
    "sum_sq_dist_animal_deaths = []\n",
    "\n",
    "K = range(1,10)\n",
    "for k in K:\n",
    "    km = KMeans(n_clusters = k, n_init=10)\n",
    "    km = km.fit(animal_deaths)\n",
    "    sum_sq_dist_animal_deaths.append(km.inertia_)\n",
    "\n",
    "sum_sq_dist_animal_deaths"
   ]
  },
  {
   "cell_type": "code",
   "execution_count": 44,
   "metadata": {},
   "outputs": [
    {
     "data": {
      "text/plain": [
       "[308.0,\n",
       " 138.58502118001596,\n",
       " 83.96685347858664,\n",
       " 65.24539423222441,\n",
       " 50.742578270942246,\n",
       " 41.553560145706975,\n",
       " 33.31520510213361,\n",
       " 27.426968496135856,\n",
       " 23.34667673807237]"
      ]
     },
     "execution_count": 44,
     "metadata": {},
     "output_type": "execute_result"
    }
   ],
   "source": [
    "#Optimal nbr of Clusters 2(Elbow Method)\n",
    "sum_sq_dist_obesity_deaths = []\n",
    "\n",
    "K = range(1,10)\n",
    "for k in K:\n",
    "    km = KMeans(n_clusters = k, n_init=10)\n",
    "    km = km.fit(animal_deaths)\n",
    "    sum_sq_dist_obesity_deaths.append(km.inertia_)\n",
    "\n",
    "sum_sq_dist_obesity_deaths"
   ]
  },
  {
   "attachments": {},
   "cell_type": "markdown",
   "metadata": {},
   "source": [
    "Plot the obtained clusters"
   ]
  },
  {
   "cell_type": "code",
   "execution_count": 45,
   "metadata": {},
   "outputs": [
    {
     "data": {
      "image/png": "[encoded data removed]",
      "text/plain": [
       "<Figure size 600x400 with 1 Axes>"
      ]
     },
     "metadata": {},
     "output_type": "display_data"
    }
   ],
   "source": [
    "#Plot Elbow - animal_deaths\n",
    "figure = plt.figure(figsize = (6, 4))\n",
    "plt.plot(K, sum_sq_dist_animal_deaths, 'y--')\n",
    "plt.xlabel('k')\n",
    "plt.ylabel('Sum_of_squared_distances')\n",
    "plt.title('Elbow Method For Optimal k - animal_deaths')\n",
    "plt.show()"
   ]
  },
  {
   "cell_type": "code",
   "execution_count": 46,
   "metadata": {},
   "outputs": [
    {
     "data": {
      "image/png": "[encoded data removed]",
      "text/plain": [
       "<Figure size 600x400 with 1 Axes>"
      ]
     },
     "metadata": {},
     "output_type": "display_data"
    }
   ],
   "source": [
    "#Plot Elbow - obesity_deaths\n",
    "figure = plt.figure(figsize = (6, 4))\n",
    "plt.plot(K, sum_sq_dist_obesity_deaths, 'y--')\n",
    "plt.xlabel('k')\n",
    "plt.ylabel('Sum_of_squared_distances')\n",
    "plt.title('Elbow Method For Optimal k - obesity_deaths')\n",
    "plt.show()"
   ]
  },
  {
   "attachments": {},
   "cell_type": "markdown",
   "metadata": {},
   "source": [
    "## Other clustering methods"
   ]
  },
  {
   "attachments": {},
   "cell_type": "markdown",
   "metadata": {},
   "source": [
    "We are going to explore other clustering methods, such as Mean-Shift.\n",
    "\n",
    "You can read more about it in the next ressource:\n",
    "https://scikit-learn.org/stable/modules/clustering.html\n"
   ]
  },
  {
   "attachments": {},
   "cell_type": "markdown",
   "metadata": {},
   "source": [
    "Apply the method to our datasets made of 2 variables (\"Obesity\" vs \"Deaths\")"
   ]
  },
  {
   "cell_type": "code",
   "execution_count": 48,
   "metadata": {},
   "outputs": [],
   "source": [
    "# Mean-Shift\n",
    "from sklearn.cluster import MeanShift, estimate_bandwidth\n",
    "\n",
    "bandwidth = estimate_bandwidth(fat_quantity_norm, quantile=0.2, n_samples=500)\n"
   ]
  },
  {
   "attachments": {},
   "cell_type": "markdown",
   "metadata": {},
   "source": [
    "Plot the obtained clusters"
   ]
  },
  {
   "cell_type": "code",
   "execution_count": null,
   "metadata": {},
   "outputs": [],
   "source": []
  },
  {
   "attachments": {},
   "cell_type": "markdown",
   "metadata": {},
   "source": [
    "Check out other algorithms such as DBSAN or OPTICS, why are these algorithms very interesting and in what cases? "
   ]
  },
  {
   "cell_type": "code",
   "execution_count": 31,
   "metadata": {},
   "outputs": [],
   "source": [
    "from sklearn.cluster import DBSCAN\n"
   ]
  },
  {
   "cell_type": "code",
   "execution_count": null,
   "metadata": {},
   "outputs": [],
   "source": []
  },
  {
   "attachments": {},
   "cell_type": "markdown",
   "metadata": {},
   "source": [
    "# Regression and prediction"
   ]
  },
  {
   "attachments": {},
   "cell_type": "markdown",
   "metadata": {},
   "source": [
    "Given this dataset and the emphasis we have already laid on deaths through clustering, it would be interesting to study this dataset for a classification purpose and see how accurately we can predict the mortality rate in fonction of the given features."
   ]
  },
  {
   "attachments": {},
   "cell_type": "markdown",
   "metadata": {},
   "source": [
    "## Creating train and test sets "
   ]
  },
  {
   "attachments": {},
   "cell_type": "markdown",
   "metadata": {},
   "source": [
    "Let's separate the data into a training and testing sets using random selection."
   ]
  },
  {
   "cell_type": "code",
   "execution_count": null,
   "metadata": {},
   "outputs": [],
   "source": []
  },
  {
   "attachments": {},
   "cell_type": "markdown",
   "metadata": {},
   "source": [
    "Now drop the labels from the training set and create a new variable for the labels."
   ]
  },
  {
   "cell_type": "code",
   "execution_count": null,
   "metadata": {},
   "outputs": [],
   "source": []
  },
  {
   "attachments": {},
   "cell_type": "markdown",
   "metadata": {},
   "source": [
    "Scale the datasets."
   ]
  },
  {
   "cell_type": "code",
   "execution_count": null,
   "metadata": {},
   "outputs": [],
   "source": []
  },
  {
   "attachments": {},
   "cell_type": "markdown",
   "metadata": {},
   "source": [
    "## Random Forest"
   ]
  },
  {
   "attachments": {},
   "cell_type": "markdown",
   "metadata": {},
   "source": [
    "Let's try a random forest model on the prepared fat_quantity training set."
   ]
  },
  {
   "cell_type": "code",
   "execution_count": null,
   "metadata": {},
   "outputs": [],
   "source": []
  },
  {
   "attachments": {},
   "cell_type": "markdown",
   "metadata": {},
   "source": [
    "Now we predict."
   ]
  },
  {
   "cell_type": "code",
   "execution_count": null,
   "metadata": {},
   "outputs": [],
   "source": []
  },
  {
   "attachments": {},
   "cell_type": "markdown",
   "metadata": {},
   "source": [
    "Let's perform a 10 fold cross validation.\n",
    "And display the resulting scores:"
   ]
  },
  {
   "cell_type": "code",
   "execution_count": null,
   "metadata": {},
   "outputs": [],
   "source": []
  },
  {
   "attachments": {},
   "cell_type": "markdown",
   "metadata": {},
   "source": [
    "## Learning Curves analysis "
   ]
  },
  {
   "attachments": {},
   "cell_type": "markdown",
   "metadata": {},
   "source": [
    "Use the function seen in **Module 1 to plot learning curves with cross validation.** "
   ]
  },
  {
   "cell_type": "code",
   "execution_count": 32,
   "metadata": {},
   "outputs": [],
   "source": [
    "from sklearn.model_selection import learning_curve\n",
    "\n",
    "def plot_learning_curve(estimator, title, X, y, axes=None, ylim=None, cv=None,\n",
    "                        n_jobs=None, train_sizes=np.linspace(.1, 1.0, 5)):\n",
    "    pass"
   ]
  },
  {
   "attachments": {},
   "cell_type": "markdown",
   "metadata": {},
   "source": [
    "Try to interpret the obtained learning curve."
   ]
  },
  {
   "cell_type": "code",
   "execution_count": null,
   "metadata": {},
   "outputs": [],
   "source": []
  },
  {
   "attachments": {},
   "cell_type": "markdown",
   "metadata": {},
   "source": [
    "Perform a grid search to try to obtain the best hyperparameters. What is the best score that you obtained?"
   ]
  },
  {
   "cell_type": "code",
   "execution_count": null,
   "metadata": {},
   "outputs": [],
   "source": []
  },
  {
   "attachments": {},
   "cell_type": "markdown",
   "metadata": {},
   "source": [
    "## SVM"
   ]
  },
  {
   "attachments": {},
   "cell_type": "markdown",
   "metadata": {},
   "source": [
    "Use the SVM regressor to estimate the death rate. See if you can get a better model than with the Random forest regressor."
   ]
  },
  {
   "cell_type": "code",
   "execution_count": null,
   "metadata": {},
   "outputs": [],
   "source": []
  },
  {
   "attachments": {},
   "cell_type": "markdown",
   "metadata": {},
   "source": [
    "## Linear regression"
   ]
  },
  {
   "cell_type": "code",
   "execution_count": null,
   "metadata": {},
   "outputs": [],
   "source": []
  },
  {
   "attachments": {},
   "cell_type": "markdown",
   "metadata": {},
   "source": [
    "# Dimensionality reduction"
   ]
  },
  {
   "attachments": {},
   "cell_type": "markdown",
   "metadata": {},
   "source": [
    "Let's take a look at the whole dataset and see if there are any clusters.\n",
    "\n",
    "In order to do these perform and plot a PCA of 2 components.\n",
    "\n",
    "Dimensionality reduction is a way to reduce the number of features in your dataset without having to lose much information and keep the model’s performance. Check out the Random Forest based method and PCA for dimensionality reduction in the following ressource:\n",
    "\n",
    "https://www.analyticsvidhya.com/blog/2018/08/dimensionality-reduction-techniques-python/"
   ]
  },
  {
   "attachments": {},
   "cell_type": "markdown",
   "metadata": {},
   "source": [
    "## Random Forest feature selection"
   ]
  },
  {
   "cell_type": "code",
   "execution_count": null,
   "metadata": {},
   "outputs": [],
   "source": []
  },
  {
   "attachments": {},
   "cell_type": "markdown",
   "metadata": {},
   "source": [
    "Plot the feature importance graph."
   ]
  },
  {
   "cell_type": "code",
   "execution_count": null,
   "metadata": {},
   "outputs": [],
   "source": []
  },
  {
   "attachments": {},
   "cell_type": "markdown",
   "metadata": {},
   "source": [
    "Comment the graph."
   ]
  },
  {
   "attachments": {},
   "cell_type": "markdown",
   "metadata": {},
   "source": [
    "## PCA dimensionality reduction"
   ]
  },
  {
   "attachments": {},
   "cell_type": "markdown",
   "metadata": {},
   "source": [
    "PCA is a technique which helps us in extracting a new set of variables from an existing large set of variables. Apply clustering methods on this new set of variables. Are the clusters obtained different than the clusters obtained on the \"Obesity\" vs \"Deaths\"?\n",
    "\n",
    "Apply the Elbow method to determne the right number of clusters.\n",
    "\n",
    "Use diverse methods to cluster the countries."
   ]
  },
  {
   "cell_type": "code",
   "execution_count": null,
   "metadata": {},
   "outputs": [],
   "source": []
  }
 ],
 "metadata": {
  "kernelspec": {
   "display_name": "Python 3",
   "language": "python",
   "name": "python3"
  },
  "language_info": {
   "codemirror_mode": {
    "name": "ipython",
    "version": 3
   },
   "file_extension": ".py",
   "mimetype": "text/x-python",
   "name": "python",
   "nbconvert_exporter": "python",
   "pygments_lexer": "ipython3",
   "version": "3.11.5"
  },
  "toc": {
   "base_numbering": 1,
   "nav_menu": {},
   "number_sections": true,
   "sideBar": true,
   "skip_h1_title": false,
   "title_cell": "Table of Contents",
   "title_sidebar": "Contents",
   "toc_cell": false,
   "toc_position": {},
   "toc_section_display": true,
   "toc_window_display": true
  },
  "varInspector": {
   "cols": {
    "lenName": 16,
    "lenType": 16,
    "lenVar": 40
   },
   "kernels_config": {
    "python": {
     "delete_cmd_postfix": "",
     "delete_cmd_prefix": "del ",
     "library": "var_list.py",
     "varRefreshCmd": "print(var_dic_list())"
    },
    "r": {
     "delete_cmd_postfix": ") ",
     "delete_cmd_prefix": "rm(",
     "library": "var_list.r",
     "varRefreshCmd": "cat(var_dic_list()) "
    }
   },
   "types_to_exclude": [
    "module",
    "function",
    "builtin_function_or_method",
    "instance",
    "_Feature"
   ],
   "window_display": false
  }
 },
 "nbformat": 4,
 "nbformat_minor": 4
}
